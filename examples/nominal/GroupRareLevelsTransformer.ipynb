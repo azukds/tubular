{
 "cells": [
  {
   "cell_type": "markdown",
   "metadata": {},
   "source": [
    "# GroupRareLevelsTransformer\n",
    "This notebook shows the functionality in the `GroupRareLevelsTransformer` class. This transformer groups together infrequently occuring levels of a variables into new level labelled 'rare' (by default). <br>\n",
    "Rare levels are determine by either the percent of rows or the percent of weight that falls into each category."
   ]
  },
  {
   "cell_type": "code",
   "execution_count": 1,
   "metadata": {
    "ExecuteTime": {
     "end_time": "2021-02-11T11:58:33.414379Z",
     "start_time": "2021-02-11T11:58:32.903916Z"
    }
   },
   "outputs": [],
   "source": [
    "import pandas as pd\n",
    "import numpy as np\n",
    "from pprint import pprint\n",
    "from sklearn.datasets import load_diabetes"
   ]
  },
  {
   "cell_type": "code",
   "execution_count": 2,
   "metadata": {
    "ExecuteTime": {
     "end_time": "2021-02-11T11:58:34.187289Z",
     "start_time": "2021-02-11T11:58:33.416404Z"
    }
   },
   "outputs": [],
   "source": [
    "import tubular\n",
    "from tubular.nominal import GroupRareLevelsTransformer"
   ]
  },
  {
   "cell_type": "code",
   "execution_count": 3,
   "metadata": {
    "ExecuteTime": {
     "end_time": "2021-02-11T11:58:34.214445Z",
     "start_time": "2021-02-11T11:58:34.190295Z"
    }
   },
   "outputs": [
    {
     "data": {
      "text/plain": [
       "'0.3.0'"
      ]
     },
     "execution_count": 3,
     "metadata": {},
     "output_type": "execute_result"
    }
   ],
   "source": [
    "tubular.__version__"
   ]
  },
  {
   "cell_type": "markdown",
   "metadata": {},
   "source": [
    "## Load diabetes dataset from sklearn\n",
    "We also create a categorical column from `bmi` and treat it as unordered for demonstration purposes in this notebook."
   ]
  },
  {
   "cell_type": "code",
   "execution_count": 4,
   "metadata": {},
   "outputs": [],
   "source": [
    "diabetes = load_diabetes(return_X_y=False, as_frame=True)['data']"
   ]
  },
  {
   "cell_type": "code",
   "execution_count": 5,
   "metadata": {},
   "outputs": [],
   "source": [
    "diabetes['bmi_cut'] = pd.cut(diabetes['bmi'], bins = 20)"
   ]
  },
  {
   "cell_type": "code",
   "execution_count": 6,
   "metadata": {},
   "outputs": [
    {
     "data": {
      "text/html": [
       "<div>\n",
       "<style scoped>\n",
       "    .dataframe tbody tr th:only-of-type {\n",
       "        vertical-align: middle;\n",
       "    }\n",
       "\n",
       "    .dataframe tbody tr th {\n",
       "        vertical-align: top;\n",
       "    }\n",
       "\n",
       "    .dataframe thead th {\n",
       "        text-align: right;\n",
       "    }\n",
       "</style>\n",
       "<table border=\"1\" class=\"dataframe\">\n",
       "  <thead>\n",
       "    <tr style=\"text-align: right;\">\n",
       "      <th></th>\n",
       "      <th>age</th>\n",
       "      <th>sex</th>\n",
       "      <th>bmi</th>\n",
       "      <th>bp</th>\n",
       "      <th>s1</th>\n",
       "      <th>s2</th>\n",
       "      <th>s3</th>\n",
       "      <th>s4</th>\n",
       "      <th>s5</th>\n",
       "      <th>s6</th>\n",
       "      <th>bmi_cut</th>\n",
       "    </tr>\n",
       "  </thead>\n",
       "  <tbody>\n",
       "    <tr>\n",
       "      <th>0</th>\n",
       "      <td>0.038076</td>\n",
       "      <td>0.050680</td>\n",
       "      <td>0.061696</td>\n",
       "      <td>0.021872</td>\n",
       "      <td>-0.044223</td>\n",
       "      <td>-0.034821</td>\n",
       "      <td>-0.043401</td>\n",
       "      <td>-0.002592</td>\n",
       "      <td>0.019908</td>\n",
       "      <td>-0.017646</td>\n",
       "      <td>(0.0532, 0.0662]</td>\n",
       "    </tr>\n",
       "    <tr>\n",
       "      <th>1</th>\n",
       "      <td>-0.001882</td>\n",
       "      <td>-0.044642</td>\n",
       "      <td>-0.051474</td>\n",
       "      <td>-0.026328</td>\n",
       "      <td>-0.008449</td>\n",
       "      <td>-0.019163</td>\n",
       "      <td>0.074412</td>\n",
       "      <td>-0.039493</td>\n",
       "      <td>-0.068330</td>\n",
       "      <td>-0.092204</td>\n",
       "      <td>(-0.0642, -0.0512]</td>\n",
       "    </tr>\n",
       "    <tr>\n",
       "      <th>2</th>\n",
       "      <td>0.085299</td>\n",
       "      <td>0.050680</td>\n",
       "      <td>0.044451</td>\n",
       "      <td>-0.005671</td>\n",
       "      <td>-0.045599</td>\n",
       "      <td>-0.034194</td>\n",
       "      <td>-0.032356</td>\n",
       "      <td>-0.002592</td>\n",
       "      <td>0.002864</td>\n",
       "      <td>-0.025930</td>\n",
       "      <td>(0.0401, 0.0532]</td>\n",
       "    </tr>\n",
       "    <tr>\n",
       "      <th>3</th>\n",
       "      <td>-0.089063</td>\n",
       "      <td>-0.044642</td>\n",
       "      <td>-0.011595</td>\n",
       "      <td>-0.036656</td>\n",
       "      <td>0.012191</td>\n",
       "      <td>0.024991</td>\n",
       "      <td>-0.036038</td>\n",
       "      <td>0.034309</td>\n",
       "      <td>0.022692</td>\n",
       "      <td>-0.009362</td>\n",
       "      <td>(-0.012, 0.00102]</td>\n",
       "    </tr>\n",
       "    <tr>\n",
       "      <th>4</th>\n",
       "      <td>0.005383</td>\n",
       "      <td>-0.044642</td>\n",
       "      <td>-0.036385</td>\n",
       "      <td>0.021872</td>\n",
       "      <td>0.003935</td>\n",
       "      <td>0.015596</td>\n",
       "      <td>0.008142</td>\n",
       "      <td>-0.002592</td>\n",
       "      <td>-0.031991</td>\n",
       "      <td>-0.046641</td>\n",
       "      <td>(-0.0381, -0.0251]</td>\n",
       "    </tr>\n",
       "  </tbody>\n",
       "</table>\n",
       "</div>"
      ],
      "text/plain": [
       "        age       sex       bmi        bp        s1        s2        s3  \\\n",
       "0  0.038076  0.050680  0.061696  0.021872 -0.044223 -0.034821 -0.043401   \n",
       "1 -0.001882 -0.044642 -0.051474 -0.026328 -0.008449 -0.019163  0.074412   \n",
       "2  0.085299  0.050680  0.044451 -0.005671 -0.045599 -0.034194 -0.032356   \n",
       "3 -0.089063 -0.044642 -0.011595 -0.036656  0.012191  0.024991 -0.036038   \n",
       "4  0.005383 -0.044642 -0.036385  0.021872  0.003935  0.015596  0.008142   \n",
       "\n",
       "         s4        s5        s6             bmi_cut  \n",
       "0 -0.002592  0.019908 -0.017646    (0.0532, 0.0662]  \n",
       "1 -0.039493 -0.068330 -0.092204  (-0.0642, -0.0512]  \n",
       "2 -0.002592  0.002864 -0.025930    (0.0401, 0.0532]  \n",
       "3  0.034309  0.022692 -0.009362   (-0.012, 0.00102]  \n",
       "4 -0.002592 -0.031991 -0.046641  (-0.0381, -0.0251]  "
      ]
     },
     "execution_count": 6,
     "metadata": {},
     "output_type": "execute_result"
    }
   ],
   "source": [
    "diabetes.head()"
   ]
  },
  {
   "cell_type": "code",
   "execution_count": 7,
   "metadata": {},
   "outputs": [
    {
     "data": {
      "text/plain": [
       "(-0.012, 0.00102]     0.117647\n",
       "(-0.0381, -0.0251]    0.110860\n",
       "(-0.0251, -0.012]     0.110860\n",
       "(-0.0512, -0.0381]    0.085973\n",
       "(0.00102, 0.0141]     0.085973\n",
       "(0.0141, 0.0271]      0.081448\n",
       "(-0.0642, -0.0512]    0.063348\n",
       "(0.0271, 0.0401]      0.063348\n",
       "(0.0532, 0.0662]      0.063348\n",
       "(0.0401, 0.0532]      0.049774\n",
       "(-0.0772, -0.0642]    0.049774\n",
       "(0.0662, 0.0793]      0.036199\n",
       "(-0.0905, -0.0772]    0.022624\n",
       "(0.0923, 0.105]       0.020362\n",
       "(0.0793, 0.0923]      0.015837\n",
       "(0.118, 0.131]        0.009050\n",
       "(0.105, 0.118]        0.006787\n",
       "(0.158, 0.171]        0.004525\n",
       "(0.131, 0.144]        0.002262\n",
       "(0.144, 0.158]        0.000000\n",
       "Name: bmi_cut, dtype: float64"
      ]
     },
     "execution_count": 7,
     "metadata": {},
     "output_type": "execute_result"
    }
   ],
   "source": [
    "diabetes['bmi_cut'].value_counts(dropna=False) / diabetes.shape[0]"
   ]
  },
  {
   "cell_type": "markdown",
   "metadata": {},
   "source": [
    "## Simple usage"
   ]
  },
  {
   "cell_type": "markdown",
   "metadata": {},
   "source": [
    "### Initialising GroupRareLevelsTransformer\n",
    "The user must set `cut_off_percent` to determine rare levels. <br>\n",
    "Note, multiple columns to group can be specified in the `columns` argument and they will all use the same cut off point."
   ]
  },
  {
   "cell_type": "code",
   "execution_count": 8,
   "metadata": {
    "ExecuteTime": {
     "end_time": "2021-02-11T11:58:34.330361Z",
     "start_time": "2021-02-11T11:58:34.314736Z"
    }
   },
   "outputs": [
    {
     "name": "stdout",
     "output_type": "stream",
     "text": [
      "BaseTransformer.__init__() called\n"
     ]
    }
   ],
   "source": [
    "grp_1 = GroupRareLevelsTransformer(\n",
    "    columns = ['bmi_cut'], \n",
    "    cut_off_percent = 0.10, \n",
    "    copy = True, \n",
    "    verbose = True\n",
    ")"
   ]
  },
  {
   "cell_type": "markdown",
   "metadata": {
    "collapsed": true
   },
   "source": [
    "### GroupRareLevelsTransformer fit\n",
    "The `fit` method determines the 'non-rare' levels from the input data, it must be run before the `transform` method. <br>\n",
    "The 'non-rare' levels are stored in the `mapping_` attribute."
   ]
  },
  {
   "cell_type": "code",
   "execution_count": 9,
   "metadata": {
    "ExecuteTime": {
     "end_time": "2021-02-11T11:58:34.361612Z",
     "start_time": "2021-02-11T11:58:34.330361Z"
    }
   },
   "outputs": [
    {
     "name": "stdout",
     "output_type": "stream",
     "text": [
      "BaseTransformer.fit() called\n"
     ]
    },
    {
     "data": {
      "text/plain": [
       "GroupRareLevelsTransformer(columns=['bmi_cut'], cut_off_percent=0.1)"
      ]
     },
     "execution_count": 9,
     "metadata": {},
     "output_type": "execute_result"
    }
   ],
   "source": [
    "grp_1.fit(diabetes)"
   ]
  },
  {
   "cell_type": "code",
   "execution_count": 10,
   "metadata": {},
   "outputs": [
    {
     "name": "stdout",
     "output_type": "stream",
     "text": [
      "{'bmi_cut': [Interval(-0.012, 0.00102, closed='right'),\n",
      "             Interval(-0.0251, -0.012, closed='right'),\n",
      "             Interval(-0.0381, -0.0251, closed='right')]}\n"
     ]
    }
   ],
   "source": [
    "pprint(grp_1.mapping_)"
   ]
  },
  {
   "cell_type": "markdown",
   "metadata": {},
   "source": [
    "### GroupRareLevelsTransformer transform\n",
    "The `transform` method maps any levels that are not present in the `mapping_` dict to 'rare'."
   ]
  },
  {
   "cell_type": "code",
   "execution_count": 11,
   "metadata": {
    "ExecuteTime": {
     "end_time": "2021-02-11T11:58:34.430672Z",
     "start_time": "2021-02-11T11:58:34.415054Z"
    }
   },
   "outputs": [
    {
     "name": "stdout",
     "output_type": "stream",
     "text": [
      "BaseTransformer.transform() called\n"
     ]
    }
   ],
   "source": [
    "diabetes_2 = grp_1.transform(diabetes)"
   ]
  },
  {
   "cell_type": "code",
   "execution_count": 12,
   "metadata": {
    "ExecuteTime": {
     "end_time": "2021-02-11T11:58:34.461922Z",
     "start_time": "2021-02-11T11:58:34.430672Z"
    }
   },
   "outputs": [
    {
     "data": {
      "text/plain": [
       "rare                  292\n",
       "(-0.012, 0.00102]      52\n",
       "(-0.0381, -0.0251]     49\n",
       "(-0.0251, -0.012]      49\n",
       "(0.0662, 0.0793]        0\n",
       "(0.158, 0.171]          0\n",
       "(0.144, 0.158]          0\n",
       "(0.131, 0.144]          0\n",
       "(0.118, 0.131]          0\n",
       "(0.105, 0.118]          0\n",
       "(0.0923, 0.105]         0\n",
       "(0.0793, 0.0923]        0\n",
       "(-0.0905, -0.0772]      0\n",
       "(0.0532, 0.0662]        0\n",
       "(-0.0772, -0.0642]      0\n",
       "(0.0271, 0.0401]        0\n",
       "(0.0141, 0.0271]        0\n",
       "(0.00102, 0.0141]       0\n",
       "(-0.0512, -0.0381]      0\n",
       "(-0.0642, -0.0512]      0\n",
       "(0.0401, 0.0532]        0\n",
       "Name: bmi_cut, dtype: int64"
      ]
     },
     "execution_count": 12,
     "metadata": {},
     "output_type": "execute_result"
    }
   ],
   "source": [
    "diabetes_2['bmi_cut'].value_counts(dropna = False)"
   ]
  },
  {
   "cell_type": "markdown",
   "metadata": {},
   "source": [
    "## Changing the rare level label\n",
    "The name of the rare level can be changed by using the `rare_level_name` argument when initialising the GroupRareLevelsTransformer object."
   ]
  },
  {
   "cell_type": "code",
   "execution_count": 13,
   "metadata": {
    "ExecuteTime": {
     "end_time": "2021-02-11T11:58:34.646266Z",
     "start_time": "2021-02-11T11:58:34.630599Z"
    }
   },
   "outputs": [],
   "source": [
    "grp_2 = GroupRareLevelsTransformer(\n",
    "    columns = ['bmi_cut'], \n",
    "    rare_level_name = 'zzz',\n",
    "    cut_off_percent = 0.10, \n",
    "    copy = True, \n",
    "    verbose = False\n",
    ")"
   ]
  },
  {
   "cell_type": "code",
   "execution_count": 14,
   "metadata": {
    "ExecuteTime": {
     "end_time": "2021-02-11T11:58:34.677465Z",
     "start_time": "2021-02-11T11:58:34.646266Z"
    }
   },
   "outputs": [
    {
     "data": {
      "text/plain": [
       "GroupRareLevelsTransformer(columns=['bmi_cut'], cut_off_percent=0.1,\n",
       "                           rare_level_name='zzz')"
      ]
     },
     "execution_count": 14,
     "metadata": {},
     "output_type": "execute_result"
    }
   ],
   "source": [
    "grp_2.fit(diabetes)"
   ]
  },
  {
   "cell_type": "code",
   "execution_count": 15,
   "metadata": {
    "ExecuteTime": {
     "end_time": "2021-02-11T11:58:34.693080Z",
     "start_time": "2021-02-11T11:58:34.677465Z"
    }
   },
   "outputs": [],
   "source": [
    "diabetes_3 = grp_2.transform(diabetes)"
   ]
  },
  {
   "cell_type": "code",
   "execution_count": 16,
   "metadata": {
    "ExecuteTime": {
     "end_time": "2021-02-11T11:58:34.715390Z",
     "start_time": "2021-02-11T11:58:34.696102Z"
    }
   },
   "outputs": [
    {
     "data": {
      "text/plain": [
       "zzz                   292\n",
       "(-0.012, 0.00102]      52\n",
       "(-0.0381, -0.0251]     49\n",
       "(-0.0251, -0.012]      49\n",
       "(0.0662, 0.0793]        0\n",
       "(0.158, 0.171]          0\n",
       "(0.144, 0.158]          0\n",
       "(0.131, 0.144]          0\n",
       "(0.118, 0.131]          0\n",
       "(0.105, 0.118]          0\n",
       "(0.0923, 0.105]         0\n",
       "(0.0793, 0.0923]        0\n",
       "(-0.0905, -0.0772]      0\n",
       "(0.0532, 0.0662]        0\n",
       "(-0.0772, -0.0642]      0\n",
       "(0.0271, 0.0401]        0\n",
       "(0.0141, 0.0271]        0\n",
       "(0.00102, 0.0141]       0\n",
       "(-0.0512, -0.0381]      0\n",
       "(-0.0642, -0.0512]      0\n",
       "(0.0401, 0.0532]        0\n",
       "Name: bmi_cut, dtype: int64"
      ]
     },
     "execution_count": 16,
     "metadata": {},
     "output_type": "execute_result"
    }
   ],
   "source": [
    "diabetes_3['bmi_cut'].value_counts(dropna = False)"
   ]
  },
  {
   "cell_type": "markdown",
   "metadata": {},
   "source": [
    "## Recording rare levels\n",
    "By default the levels identified as 'rare' i.e. those that fall below the `cut_off_percent` value are not recorded. This is because there could be potentially a large number of levels. This can be changed by setting the `record_rare_levels` argument to `True` when initialising the GroupRareLevelsTransformer object. <br>\n",
    "If this is the case the rare levels are recorded in a dict in the `rare_levels_record_` attribute on the transformer. <br>\n",
    "The user should take care doing this if using the transformer on columns with many levels as this can result in a large transformer object. "
   ]
  },
  {
   "cell_type": "code",
   "execution_count": 17,
   "metadata": {
    "ExecuteTime": {
     "end_time": "2021-02-11T11:58:34.735243Z",
     "start_time": "2021-02-11T11:58:34.716504Z"
    }
   },
   "outputs": [],
   "source": [
    "grp_3 = GroupRareLevelsTransformer(\n",
    "    columns = ['bmi_cut'], \n",
    "    record_rare_levels = True,\n",
    "    cut_off_percent = 0.10, \n",
    "    copy = True, \n",
    "    verbose = False\n",
    ")"
   ]
  },
  {
   "cell_type": "code",
   "execution_count": 18,
   "metadata": {
    "ExecuteTime": {
     "end_time": "2021-02-11T11:58:34.749438Z",
     "start_time": "2021-02-11T11:58:34.735243Z"
    }
   },
   "outputs": [
    {
     "data": {
      "text/plain": [
       "GroupRareLevelsTransformer(columns=['bmi_cut'], cut_off_percent=0.1)"
      ]
     },
     "execution_count": 18,
     "metadata": {},
     "output_type": "execute_result"
    }
   ],
   "source": [
    "grp_3.fit(diabetes)"
   ]
  },
  {
   "cell_type": "code",
   "execution_count": 19,
   "metadata": {
    "ExecuteTime": {
     "end_time": "2021-02-11T11:58:34.779009Z",
     "start_time": "2021-02-11T11:58:34.749438Z"
    }
   },
   "outputs": [
    {
     "name": "stdout",
     "output_type": "stream",
     "text": [
      "{'bmi_cut': [Interval(-0.0512, -0.0381, closed='right'),\n",
      "             Interval(-0.0642, -0.0512, closed='right'),\n",
      "             Interval(-0.0772, -0.0642, closed='right'),\n",
      "             Interval(-0.0905, -0.0772, closed='right'),\n",
      "             Interval(0.00102, 0.0141, closed='right'),\n",
      "             Interval(0.0141, 0.0271, closed='right'),\n",
      "             Interval(0.0271, 0.0401, closed='right'),\n",
      "             Interval(0.0401, 0.0532, closed='right'),\n",
      "             Interval(0.0532, 0.0662, closed='right'),\n",
      "             Interval(0.0662, 0.0793, closed='right'),\n",
      "             Interval(0.0793, 0.0923, closed='right'),\n",
      "             Interval(0.0923, 0.105, closed='right'),\n",
      "             Interval(0.105, 0.118, closed='right'),\n",
      "             Interval(0.118, 0.131, closed='right'),\n",
      "             Interval(0.131, 0.144, closed='right'),\n",
      "             Interval(0.144, 0.158, closed='right'),\n",
      "             Interval(0.158, 0.171, closed='right')]}\n"
     ]
    }
   ],
   "source": [
    "pprint(grp_3.rare_levels_record_)"
   ]
  },
  {
   "cell_type": "markdown",
   "metadata": {},
   "source": [
    "## Using row by row weights to identify rare levels\n",
    "If records in the data do not have equal weight the user can set the `weight` argument when initialising the GroupRareLevelsTransformer object so `cut_off_percent` applies to the sum of weight rather than sum of rows. <br>\n",
    "In this example we create a dummy weights column and set a rows with negative `bmi` values (note, columns have been standardised in this dataset) with a high weight compared to positive `bmi` values."
   ]
  },
  {
   "cell_type": "code",
   "execution_count": 20,
   "metadata": {},
   "outputs": [],
   "source": [
    "diabetes['weights'] = 1\n",
    "diabetes.loc[diabetes['bmi'] < 0, 'weights'] = 10"
   ]
  },
  {
   "cell_type": "code",
   "execution_count": 21,
   "metadata": {
    "ExecuteTime": {
     "end_time": "2021-02-11T11:58:34.862278Z",
     "start_time": "2021-02-11T11:58:34.846589Z"
    }
   },
   "outputs": [],
   "source": [
    "grp_4 = GroupRareLevelsTransformer(\n",
    "    columns = ['bmi_cut'], \n",
    "    weight = 'weights',\n",
    "    cut_off_percent = 0.10, \n",
    "    copy = True, \n",
    "    verbose = False\n",
    ")"
   ]
  },
  {
   "cell_type": "code",
   "execution_count": 22,
   "metadata": {
    "ExecuteTime": {
     "end_time": "2021-02-11T11:58:34.893499Z",
     "start_time": "2021-02-11T11:58:34.862278Z"
    }
   },
   "outputs": [
    {
     "data": {
      "text/plain": [
       "GroupRareLevelsTransformer(columns=['bmi_cut'], cut_off_percent=0.1,\n",
       "                           weight='weights')"
      ]
     },
     "execution_count": 22,
     "metadata": {},
     "output_type": "execute_result"
    }
   ],
   "source": [
    "grp_4.fit(diabetes)"
   ]
  },
  {
   "cell_type": "code",
   "execution_count": 23,
   "metadata": {
    "ExecuteTime": {
     "end_time": "2021-02-11T11:58:34.915236Z",
     "start_time": "2021-02-11T11:58:34.896565Z"
    }
   },
   "outputs": [
    {
     "name": "stdout",
     "output_type": "stream",
     "text": [
      "{'bmi_cut': [Interval(-0.012, 0.00102, closed='right'),\n",
      "             Interval(-0.0251, -0.012, closed='right'),\n",
      "             Interval(-0.0381, -0.0251, closed='right'),\n",
      "             Interval(-0.0512, -0.0381, closed='right'),\n",
      "             Interval(-0.0642, -0.0512, closed='right')]}\n"
     ]
    }
   ],
   "source": [
    "pprint(grp_4.mapping_)"
   ]
  },
  {
   "cell_type": "code",
   "execution_count": 24,
   "metadata": {},
   "outputs": [
    {
     "data": {
      "text/plain": [
       "bmi_cut\n",
       "(-0.0905, -0.0772]    0.037523\n",
       "(-0.0772, -0.0642]    0.082552\n",
       "(-0.0642, -0.0512]    0.105066\n",
       "(-0.0512, -0.0381]    0.142589\n",
       "(-0.0381, -0.0251]    0.183865\n",
       "(-0.0251, -0.012]     0.183865\n",
       "(-0.012, 0.00102]     0.191745\n",
       "(0.00102, 0.0141]     0.014259\n",
       "(0.0141, 0.0271]      0.013508\n",
       "(0.0271, 0.0401]      0.010507\n",
       "(0.0401, 0.0532]      0.008255\n",
       "(0.0532, 0.0662]      0.010507\n",
       "(0.0662, 0.0793]      0.006004\n",
       "(0.0793, 0.0923]      0.002627\n",
       "(0.0923, 0.105]       0.003377\n",
       "(0.105, 0.118]        0.001126\n",
       "(0.118, 0.131]        0.001501\n",
       "(0.131, 0.144]        0.000375\n",
       "(0.144, 0.158]        0.000000\n",
       "(0.158, 0.171]        0.000750\n",
       "Name: weights, dtype: float64"
      ]
     },
     "execution_count": 24,
     "metadata": {},
     "output_type": "execute_result"
    }
   ],
   "source": [
    "diabetes.groupby('bmi_cut')['weights'].sum() / diabetes['weights'].sum()"
   ]
  },
  {
   "cell_type": "code",
   "execution_count": null,
   "metadata": {},
   "outputs": [],
   "source": []
  },
  {
   "cell_type": "code",
   "execution_count": null,
   "metadata": {},
   "outputs": [],
   "source": []
  },
  {
   "cell_type": "code",
   "execution_count": null,
   "metadata": {},
   "outputs": [],
   "source": []
  },
  {
   "cell_type": "code",
   "execution_count": null,
   "metadata": {},
   "outputs": [],
   "source": []
  }
 ],
 "metadata": {
  "interpreter": {
   "hash": "acd6334e021a7db446bfbd8a7e8cde57897cc7bef85d1865f638df2473f50e8e"
  },
  "kernelspec": {
   "display_name": "python3",
   "language": "python",
   "name": "python3"
  },
  "language_info": {
   "codemirror_mode": {
    "name": "ipython",
    "version": 3
   },
   "file_extension": ".py",
   "mimetype": "text/x-python",
   "name": "python",
   "nbconvert_exporter": "python",
   "pygments_lexer": "ipython3",
   "version": "3.7.10"
  },
  "toc": {
   "base_numbering": 1,
   "nav_menu": {},
   "number_sections": true,
   "sideBar": true,
   "skip_h1_title": false,
   "title_cell": "Table of Contents",
   "title_sidebar": "Contents",
   "toc_cell": false,
   "toc_position": {},
   "toc_section_display": true,
   "toc_window_display": true
  }
 },
 "nbformat": 4,
 "nbformat_minor": 2
}
