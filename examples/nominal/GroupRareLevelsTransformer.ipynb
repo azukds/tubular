{
 "cells": [
  {
   "cell_type": "markdown",
   "source": [
    "# GroupRareLevelsTransformer\n",
    "This notebook shows the functionality in the GroupRareLevelsTransformer class. This transformer groups together infrequently occuring levels of a variables into new level labelled 'rare' (by default). <br>\n",
    "These 'rare' levels are determine by either the percent of rows or the percent of weight that falls into each level."
   ],
   "metadata": {}
  },
  {
   "cell_type": "code",
   "execution_count": 1,
   "source": [
    "import pandas as pd\n",
    "import numpy as np\n",
    "from pprint import pprint"
   ],
   "outputs": [],
   "metadata": {
    "ExecuteTime": {
     "end_time": "2021-02-11T11:58:33.414379Z",
     "start_time": "2021-02-11T11:58:32.903916Z"
    }
   }
  },
  {
   "cell_type": "code",
   "execution_count": 2,
   "source": [
    "import tubular\n",
    "from tubular.nominal import GroupRareLevelsTransformer"
   ],
   "outputs": [],
   "metadata": {
    "ExecuteTime": {
     "end_time": "2021-02-11T11:58:34.187289Z",
     "start_time": "2021-02-11T11:58:33.416404Z"
    }
   }
  },
  {
   "cell_type": "code",
   "execution_count": 3,
   "source": [
    "tubular.__version__"
   ],
   "outputs": [
    {
     "output_type": "execute_result",
     "data": {
      "text/plain": [
       "'0.2.14'"
      ]
     },
     "metadata": {},
     "execution_count": 3
    }
   ],
   "metadata": {
    "ExecuteTime": {
     "end_time": "2021-02-11T11:58:34.214445Z",
     "start_time": "2021-02-11T11:58:34.190295Z"
    }
   }
  },
  {
   "cell_type": "markdown",
   "source": [
    "## Load Boston house price dataset from sklearn\n",
    "Note, the load_boston script modifies the original Boston dataset to include nulls values and pandas categorical dtypes."
   ],
   "metadata": {}
  },
  {
   "cell_type": "code",
   "execution_count": 4,
   "source": [
    "boston_df = tubular.testing.test_data.prepare_boston_df()\n",
    "boston_df.shape"
   ],
   "outputs": [
    {
     "output_type": "execute_result",
     "data": {
      "text/plain": [
       "(506, 17)"
      ]
     },
     "metadata": {},
     "execution_count": 4
    }
   ],
   "metadata": {
    "ExecuteTime": {
     "end_time": "2021-02-11T11:58:34.245684Z",
     "start_time": "2021-02-11T11:58:34.214445Z"
    }
   }
  },
  {
   "cell_type": "code",
   "execution_count": 5,
   "source": [
    "boston_df.head()"
   ],
   "outputs": [
    {
     "output_type": "execute_result",
     "data": {
      "text/html": [
       "<div>\n",
       "<style scoped>\n",
       "    .dataframe tbody tr th:only-of-type {\n",
       "        vertical-align: middle;\n",
       "    }\n",
       "\n",
       "    .dataframe tbody tr th {\n",
       "        vertical-align: top;\n",
       "    }\n",
       "\n",
       "    .dataframe thead th {\n",
       "        text-align: right;\n",
       "    }\n",
       "</style>\n",
       "<table border=\"1\" class=\"dataframe\">\n",
       "  <thead>\n",
       "    <tr style=\"text-align: right;\">\n",
       "      <th></th>\n",
       "      <th>CRIM</th>\n",
       "      <th>ZN</th>\n",
       "      <th>INDUS</th>\n",
       "      <th>CHAS</th>\n",
       "      <th>NOX</th>\n",
       "      <th>RM</th>\n",
       "      <th>AGE</th>\n",
       "      <th>DIS</th>\n",
       "      <th>RAD</th>\n",
       "      <th>TAX</th>\n",
       "      <th>PTRATIO</th>\n",
       "      <th>B</th>\n",
       "      <th>LSTAT</th>\n",
       "      <th>target</th>\n",
       "      <th>ZN_cat</th>\n",
       "      <th>CHAS_cat</th>\n",
       "      <th>RAD_cat</th>\n",
       "    </tr>\n",
       "  </thead>\n",
       "  <tbody>\n",
       "    <tr>\n",
       "      <th>0</th>\n",
       "      <td>0.00632</td>\n",
       "      <td>18.0</td>\n",
       "      <td>2.31</td>\n",
       "      <td>0.0</td>\n",
       "      <td>0.538</td>\n",
       "      <td>6.575</td>\n",
       "      <td>NaN</td>\n",
       "      <td>4.0900</td>\n",
       "      <td>NaN</td>\n",
       "      <td>296.0</td>\n",
       "      <td>15.3</td>\n",
       "      <td>396.90</td>\n",
       "      <td>4.98</td>\n",
       "      <td>24.0</td>\n",
       "      <td>18.0</td>\n",
       "      <td>0.0</td>\n",
       "      <td>NaN</td>\n",
       "    </tr>\n",
       "    <tr>\n",
       "      <th>1</th>\n",
       "      <td>0.02731</td>\n",
       "      <td>NaN</td>\n",
       "      <td>7.07</td>\n",
       "      <td>0.0</td>\n",
       "      <td>0.469</td>\n",
       "      <td>6.421</td>\n",
       "      <td>78.9</td>\n",
       "      <td>4.9671</td>\n",
       "      <td>2.0</td>\n",
       "      <td>242.0</td>\n",
       "      <td>17.8</td>\n",
       "      <td>396.90</td>\n",
       "      <td>9.14</td>\n",
       "      <td>21.6</td>\n",
       "      <td>NaN</td>\n",
       "      <td>0.0</td>\n",
       "      <td>2.0</td>\n",
       "    </tr>\n",
       "    <tr>\n",
       "      <th>2</th>\n",
       "      <td>0.02729</td>\n",
       "      <td>0.0</td>\n",
       "      <td>7.07</td>\n",
       "      <td>0.0</td>\n",
       "      <td>0.469</td>\n",
       "      <td>7.185</td>\n",
       "      <td>61.1</td>\n",
       "      <td>4.9671</td>\n",
       "      <td>2.0</td>\n",
       "      <td>NaN</td>\n",
       "      <td>17.8</td>\n",
       "      <td>392.83</td>\n",
       "      <td>4.03</td>\n",
       "      <td>34.7</td>\n",
       "      <td>0.0</td>\n",
       "      <td>0.0</td>\n",
       "      <td>2.0</td>\n",
       "    </tr>\n",
       "    <tr>\n",
       "      <th>3</th>\n",
       "      <td>NaN</td>\n",
       "      <td>NaN</td>\n",
       "      <td>2.18</td>\n",
       "      <td>0.0</td>\n",
       "      <td>0.458</td>\n",
       "      <td>NaN</td>\n",
       "      <td>45.8</td>\n",
       "      <td>6.0622</td>\n",
       "      <td>3.0</td>\n",
       "      <td>222.0</td>\n",
       "      <td>18.7</td>\n",
       "      <td>NaN</td>\n",
       "      <td>NaN</td>\n",
       "      <td>33.4</td>\n",
       "      <td>NaN</td>\n",
       "      <td>0.0</td>\n",
       "      <td>3.0</td>\n",
       "    </tr>\n",
       "    <tr>\n",
       "      <th>4</th>\n",
       "      <td>0.06905</td>\n",
       "      <td>0.0</td>\n",
       "      <td>2.18</td>\n",
       "      <td>0.0</td>\n",
       "      <td>0.458</td>\n",
       "      <td>NaN</td>\n",
       "      <td>NaN</td>\n",
       "      <td>6.0622</td>\n",
       "      <td>3.0</td>\n",
       "      <td>222.0</td>\n",
       "      <td>18.7</td>\n",
       "      <td>396.90</td>\n",
       "      <td>5.33</td>\n",
       "      <td>36.2</td>\n",
       "      <td>0.0</td>\n",
       "      <td>0.0</td>\n",
       "      <td>3.0</td>\n",
       "    </tr>\n",
       "  </tbody>\n",
       "</table>\n",
       "</div>"
      ],
      "text/plain": [
       "      CRIM    ZN  INDUS CHAS    NOX     RM   AGE     DIS  RAD    TAX  PTRATIO  \\\n",
       "0  0.00632  18.0   2.31  0.0  0.538  6.575   NaN  4.0900  NaN  296.0     15.3   \n",
       "1  0.02731   NaN   7.07  0.0  0.469  6.421  78.9  4.9671  2.0  242.0     17.8   \n",
       "2  0.02729   0.0   7.07  0.0  0.469  7.185  61.1  4.9671  2.0    NaN     17.8   \n",
       "3      NaN   NaN   2.18  0.0  0.458    NaN  45.8  6.0622  3.0  222.0     18.7   \n",
       "4  0.06905   0.0   2.18  0.0  0.458    NaN   NaN  6.0622  3.0  222.0     18.7   \n",
       "\n",
       "        B  LSTAT  target ZN_cat CHAS_cat RAD_cat  \n",
       "0  396.90   4.98    24.0   18.0      0.0     NaN  \n",
       "1  396.90   9.14    21.6    NaN      0.0     2.0  \n",
       "2  392.83   4.03    34.7    0.0      0.0     2.0  \n",
       "3     NaN    NaN    33.4    NaN      0.0     3.0  \n",
       "4  396.90   5.33    36.2    0.0      0.0     3.0  "
      ]
     },
     "metadata": {},
     "execution_count": 5
    }
   ],
   "metadata": {
    "ExecuteTime": {
     "end_time": "2021-02-11T11:58:34.292572Z",
     "start_time": "2021-02-11T11:58:34.245684Z"
    }
   }
  },
  {
   "cell_type": "code",
   "execution_count": 6,
   "source": [
    "boston_df.dtypes"
   ],
   "outputs": [
    {
     "output_type": "execute_result",
     "data": {
      "text/plain": [
       "CRIM         float64\n",
       "ZN            object\n",
       "INDUS        float64\n",
       "CHAS          object\n",
       "NOX          float64\n",
       "RM           float64\n",
       "AGE          float64\n",
       "DIS          float64\n",
       "RAD           object\n",
       "TAX          float64\n",
       "PTRATIO      float64\n",
       "B            float64\n",
       "LSTAT        float64\n",
       "target       float64\n",
       "ZN_cat      category\n",
       "CHAS_cat    category\n",
       "RAD_cat     category\n",
       "dtype: object"
      ]
     },
     "metadata": {},
     "execution_count": 6
    }
   ],
   "metadata": {
    "ExecuteTime": {
     "end_time": "2021-02-11T11:58:34.314736Z",
     "start_time": "2021-02-11T11:58:34.295100Z"
    }
   }
  },
  {
   "cell_type": "markdown",
   "source": [
    "## Simple usage"
   ],
   "metadata": {}
  },
  {
   "cell_type": "markdown",
   "source": [
    "### Initialising GroupRareLevelsTransformer\n",
    "The user must set cut_off_percent to determine rare levels."
   ],
   "metadata": {}
  },
  {
   "cell_type": "code",
   "execution_count": 7,
   "source": [
    "grp_1 = GroupRareLevelsTransformer(\n",
    "    columns = ['ZN', 'RAD'], \n",
    "    cut_off_percent = 0.10, \n",
    "    copy = True, \n",
    "    verbose = True\n",
    ")"
   ],
   "outputs": [
    {
     "output_type": "stream",
     "name": "stdout",
     "text": [
      "BaseTransformer.__init__() called\n"
     ]
    }
   ],
   "metadata": {
    "ExecuteTime": {
     "end_time": "2021-02-11T11:58:34.330361Z",
     "start_time": "2021-02-11T11:58:34.314736Z"
    }
   }
  },
  {
   "cell_type": "markdown",
   "source": [
    "### GroupRareLevelsTransformer fit\n",
    "The fit method must be run before the transform method. It determines the 'non-rare' levels from the input data.\n",
    "The mappings are stored in an attribute called 'mapping_'."
   ],
   "metadata": {
    "collapsed": true
   }
  },
  {
   "cell_type": "code",
   "execution_count": 8,
   "source": [
    "grp_1.fit(boston_df)"
   ],
   "outputs": [
    {
     "output_type": "stream",
     "name": "stdout",
     "text": [
      "BaseTransformer.fit() called\n"
     ]
    },
    {
     "output_type": "execute_result",
     "data": {
      "text/plain": [
       "GroupRareLevelsTransformer(columns=['ZN', 'RAD'], cut_off_percent=0.1)"
      ]
     },
     "metadata": {},
     "execution_count": 8
    }
   ],
   "metadata": {
    "ExecuteTime": {
     "end_time": "2021-02-11T11:58:34.361612Z",
     "start_time": "2021-02-11T11:58:34.330361Z"
    }
   }
  },
  {
   "cell_type": "code",
   "execution_count": 9,
   "source": [
    "pprint(grp_1.mapping_)"
   ],
   "outputs": [
    {
     "output_type": "stream",
     "name": "stdout",
     "text": [
      "{'RAD': ['24.0', '4.0', '5.0', nan], 'ZN': ['0.0', nan]}\n"
     ]
    }
   ],
   "metadata": {
    "ExecuteTime": {
     "end_time": "2021-02-11T11:58:34.377245Z",
     "start_time": "2021-02-11T11:58:34.361612Z"
    }
   }
  },
  {
   "cell_type": "markdown",
   "source": [
    "### GroupRareLevelsTransformer transform\n",
    "The transform method maps any levels that are not present in the mapping_ dict to 'rare'."
   ],
   "metadata": {}
  },
  {
   "cell_type": "code",
   "execution_count": 10,
   "source": [
    "boston_df['RAD'].value_counts(normalize = True, dropna = False)"
   ],
   "outputs": [
    {
     "output_type": "execute_result",
     "data": {
      "text/plain": [
       "24.0    0.245059\n",
       "5.0     0.203557\n",
       "4.0     0.173913\n",
       "NaN     0.122530\n",
       "3.0     0.069170\n",
       "6.0     0.043478\n",
       "8.0     0.041502\n",
       "2.0     0.039526\n",
       "1.0     0.035573\n",
       "7.0     0.025692\n",
       "Name: RAD, dtype: float64"
      ]
     },
     "metadata": {},
     "execution_count": 10
    }
   ],
   "metadata": {
    "ExecuteTime": {
     "end_time": "2021-02-11T11:58:34.415054Z",
     "start_time": "2021-02-11T11:58:34.377245Z"
    }
   }
  },
  {
   "cell_type": "code",
   "execution_count": 11,
   "source": [
    "boston_df_2 = grp_1.transform(boston_df)"
   ],
   "outputs": [
    {
     "output_type": "stream",
     "name": "stdout",
     "text": [
      "BaseTransformer.transform() called\n"
     ]
    }
   ],
   "metadata": {
    "ExecuteTime": {
     "end_time": "2021-02-11T11:58:34.430672Z",
     "start_time": "2021-02-11T11:58:34.415054Z"
    }
   }
  },
  {
   "cell_type": "code",
   "execution_count": 12,
   "source": [
    "boston_df_2['RAD'].value_counts(dropna = False)"
   ],
   "outputs": [
    {
     "output_type": "execute_result",
     "data": {
      "text/plain": [
       "rare    129\n",
       "24.0    124\n",
       "5.0     103\n",
       "4.0      88\n",
       "NaN      62\n",
       "Name: RAD, dtype: int64"
      ]
     },
     "metadata": {},
     "execution_count": 12
    }
   ],
   "metadata": {
    "ExecuteTime": {
     "end_time": "2021-02-11T11:58:34.461922Z",
     "start_time": "2021-02-11T11:58:34.430672Z"
    }
   }
  },
  {
   "cell_type": "code",
   "execution_count": 13,
   "source": [
    "boston_df_2['ZN'].value_counts(dropna = False)"
   ],
   "outputs": [
    {
     "output_type": "execute_result",
     "data": {
      "text/plain": [
       "0.0     330\n",
       "rare    114\n",
       "NaN      62\n",
       "Name: ZN, dtype: int64"
      ]
     },
     "metadata": {},
     "execution_count": 13
    }
   ],
   "metadata": {
    "ExecuteTime": {
     "end_time": "2021-02-11T11:58:34.477574Z",
     "start_time": "2021-02-11T11:58:34.461922Z"
    }
   }
  },
  {
   "cell_type": "markdown",
   "source": [
    "## Changing the rare level label\n",
    "The name of the rare level can be changed by using the 'rare_level_name' argument when initialising the GroupRareLevelsTransformer object."
   ],
   "metadata": {}
  },
  {
   "cell_type": "code",
   "execution_count": 21,
   "source": [
    "grp_2 = GroupRareLevelsTransformer(\n",
    "    columns = ['ZN'], \n",
    "    rare_level_name = 'zzz',\n",
    "    cut_off_percent = 0.10, \n",
    "    copy = True, \n",
    "    verbose = False\n",
    ")"
   ],
   "outputs": [],
   "metadata": {
    "ExecuteTime": {
     "end_time": "2021-02-11T11:58:34.646266Z",
     "start_time": "2021-02-11T11:58:34.630599Z"
    }
   }
  },
  {
   "cell_type": "code",
   "execution_count": 22,
   "source": [
    "grp_2.fit(boston_df)"
   ],
   "outputs": [
    {
     "output_type": "execute_result",
     "data": {
      "text/plain": [
       "GroupRareLevelsTransformer(columns=['ZN'], cut_off_percent=0.1,\n",
       "                           rare_level_name='zzz')"
      ]
     },
     "metadata": {},
     "execution_count": 22
    }
   ],
   "metadata": {
    "ExecuteTime": {
     "end_time": "2021-02-11T11:58:34.677465Z",
     "start_time": "2021-02-11T11:58:34.646266Z"
    }
   }
  },
  {
   "cell_type": "code",
   "execution_count": 23,
   "source": [
    "boston_df_3 = grp_2.transform(boston_df)"
   ],
   "outputs": [],
   "metadata": {
    "ExecuteTime": {
     "end_time": "2021-02-11T11:58:34.693080Z",
     "start_time": "2021-02-11T11:58:34.677465Z"
    }
   }
  },
  {
   "cell_type": "code",
   "execution_count": 24,
   "source": [
    "boston_df_3['ZN'].value_counts(dropna = False)"
   ],
   "outputs": [
    {
     "output_type": "execute_result",
     "data": {
      "text/plain": [
       "0.0    330\n",
       "zzz    114\n",
       "NaN     62\n",
       "Name: ZN, dtype: int64"
      ]
     },
     "metadata": {},
     "execution_count": 24
    }
   ],
   "metadata": {
    "ExecuteTime": {
     "end_time": "2021-02-11T11:58:34.715390Z",
     "start_time": "2021-02-11T11:58:34.696102Z"
    }
   }
  },
  {
   "cell_type": "markdown",
   "source": [
    "## Recording rare levels\n",
    "By default the levels identified as 'rare' i.e. they fall below the cut_off_percent value are not recorded. This can be changed by setting the record_rare_levels argument to True when initialising the GroupRareLevelsTransformer object. <br>\n",
    "If this is the case the rare levels are recorded in a dict in the 'rare_levels_record_' attribute on the object. <br>\n",
    "The user should take care doing this if using the transformer on columns with many levels as this can result in a large transformer object. "
   ],
   "metadata": {}
  },
  {
   "cell_type": "code",
   "execution_count": 25,
   "source": [
    "grp_3 = GroupRareLevelsTransformer(\n",
    "    columns = ['ZN'], \n",
    "    record_rare_levels = True,\n",
    "    cut_off_percent = 0.10, \n",
    "    copy = True, \n",
    "    verbose = False\n",
    ")"
   ],
   "outputs": [],
   "metadata": {
    "ExecuteTime": {
     "end_time": "2021-02-11T11:58:34.735243Z",
     "start_time": "2021-02-11T11:58:34.716504Z"
    }
   }
  },
  {
   "cell_type": "code",
   "execution_count": 26,
   "source": [
    "grp_3.fit(boston_df)"
   ],
   "outputs": [
    {
     "output_type": "execute_result",
     "data": {
      "text/plain": [
       "GroupRareLevelsTransformer(columns=['ZN'], cut_off_percent=0.1)"
      ]
     },
     "metadata": {},
     "execution_count": 26
    }
   ],
   "metadata": {
    "ExecuteTime": {
     "end_time": "2021-02-11T11:58:34.749438Z",
     "start_time": "2021-02-11T11:58:34.735243Z"
    }
   }
  },
  {
   "cell_type": "code",
   "execution_count": 27,
   "source": [
    "pprint(grp_3.rare_levels_record_)"
   ],
   "outputs": [
    {
     "output_type": "stream",
     "name": "stdout",
     "text": [
      "{'ZN': ['100.0',\n",
      "        '12.5',\n",
      "        '17.5',\n",
      "        '18.0',\n",
      "        '20.0',\n",
      "        '21.0',\n",
      "        '22.0',\n",
      "        '25.0',\n",
      "        '28.0',\n",
      "        '30.0',\n",
      "        '33.0',\n",
      "        '34.0',\n",
      "        '35.0',\n",
      "        '40.0',\n",
      "        '45.0',\n",
      "        '52.5',\n",
      "        '55.0',\n",
      "        '60.0',\n",
      "        '70.0',\n",
      "        '75.0',\n",
      "        '80.0',\n",
      "        '85.0',\n",
      "        '90.0',\n",
      "        '95.0']}\n"
     ]
    }
   ],
   "metadata": {
    "ExecuteTime": {
     "end_time": "2021-02-11T11:58:34.779009Z",
     "start_time": "2021-02-11T11:58:34.749438Z"
    }
   }
  },
  {
   "cell_type": "markdown",
   "source": [
    "## Using row by row weights to identify rare levels\n",
    "If records in the data do not have equal weight the user can set the 'weight' argument when initialising the GroupRareLevelsTransformer object so cut_off_percent applies to the sum of weight rather than sum of rows. <br>\n",
    "In this example we create a dummy weights column, and set a very rarely occuring level of the 'ZN' column to have a large weight compared to all other levels. This level should be the only one selected based off these (dummy) weights."
   ],
   "metadata": {}
  },
  {
   "cell_type": "code",
   "execution_count": 28,
   "source": [
    "(boston_df['ZN'] == '100.0').sum() / boston_df.shape[0] "
   ],
   "outputs": [
    {
     "output_type": "execute_result",
     "data": {
      "text/plain": [
       "0.001976284584980237"
      ]
     },
     "metadata": {},
     "execution_count": 28
    }
   ],
   "metadata": {
    "ExecuteTime": {
     "end_time": "2021-02-11T11:58:34.794679Z",
     "start_time": "2021-02-11T11:58:34.779009Z"
    }
   }
  },
  {
   "cell_type": "code",
   "execution_count": 29,
   "source": [
    "boston_df['weights'] = 1"
   ],
   "outputs": [],
   "metadata": {
    "ExecuteTime": {
     "end_time": "2021-02-11T11:58:34.815348Z",
     "start_time": "2021-02-11T11:58:34.797699Z"
    }
   }
  },
  {
   "cell_type": "code",
   "execution_count": 30,
   "source": [
    "boston_df.loc[boston_df['ZN'] == '100.0', 'weights'] = 1000000"
   ],
   "outputs": [],
   "metadata": {
    "ExecuteTime": {
     "end_time": "2021-02-11T11:58:34.846589Z",
     "start_time": "2021-02-11T11:58:34.815348Z"
    }
   }
  },
  {
   "cell_type": "code",
   "execution_count": 31,
   "source": [
    "grp_4 = GroupRareLevelsTransformer(\n",
    "    columns = ['ZN'], \n",
    "    weight = 'weights',\n",
    "    cut_off_percent = 0.10, \n",
    "    copy = True, \n",
    "    verbose = False\n",
    ")"
   ],
   "outputs": [],
   "metadata": {
    "ExecuteTime": {
     "end_time": "2021-02-11T11:58:34.862278Z",
     "start_time": "2021-02-11T11:58:34.846589Z"
    }
   }
  },
  {
   "cell_type": "code",
   "execution_count": 32,
   "source": [
    "grp_4.fit(boston_df)"
   ],
   "outputs": [
    {
     "output_type": "execute_result",
     "data": {
      "text/plain": [
       "GroupRareLevelsTransformer(columns=['ZN'], cut_off_percent=0.1,\n",
       "                           weight='weights')"
      ]
     },
     "metadata": {},
     "execution_count": 32
    }
   ],
   "metadata": {
    "ExecuteTime": {
     "end_time": "2021-02-11T11:58:34.893499Z",
     "start_time": "2021-02-11T11:58:34.862278Z"
    }
   }
  },
  {
   "cell_type": "code",
   "execution_count": 33,
   "source": [
    "grp_4.mapping_"
   ],
   "outputs": [
    {
     "output_type": "execute_result",
     "data": {
      "text/plain": [
       "{'ZN': ['100.0']}"
      ]
     },
     "metadata": {},
     "execution_count": 33
    }
   ],
   "metadata": {
    "ExecuteTime": {
     "end_time": "2021-02-11T11:58:34.915236Z",
     "start_time": "2021-02-11T11:58:34.896565Z"
    }
   }
  },
  {
   "cell_type": "code",
   "execution_count": null,
   "source": [],
   "outputs": [],
   "metadata": {}
  },
  {
   "cell_type": "code",
   "execution_count": null,
   "source": [],
   "outputs": [],
   "metadata": {}
  },
  {
   "cell_type": "code",
   "execution_count": null,
   "source": [],
   "outputs": [],
   "metadata": {}
  },
  {
   "cell_type": "code",
   "execution_count": null,
   "source": [],
   "outputs": [],
   "metadata": {}
  },
  {
   "cell_type": "code",
   "execution_count": null,
   "source": [],
   "outputs": [],
   "metadata": {}
  },
  {
   "cell_type": "code",
   "execution_count": null,
   "source": [],
   "outputs": [],
   "metadata": {}
  }
 ],
 "metadata": {
  "kernelspec": {
   "name": "python3",
   "display_name": "Python 3.8.11 64-bit ('AI_Delivery': conda)"
  },
  "language_info": {
   "codemirror_mode": {
    "name": "ipython",
    "version": 3
   },
   "file_extension": ".py",
   "mimetype": "text/x-python",
   "name": "python",
   "nbconvert_exporter": "python",
   "pygments_lexer": "ipython3",
   "version": "3.8.11"
  },
  "toc": {
   "base_numbering": 1,
   "nav_menu": {},
   "number_sections": true,
   "sideBar": true,
   "skip_h1_title": false,
   "title_cell": "Table of Contents",
   "title_sidebar": "Contents",
   "toc_cell": false,
   "toc_position": {},
   "toc_section_display": true,
   "toc_window_display": true
  },
  "interpreter": {
   "hash": "acd6334e021a7db446bfbd8a7e8cde57897cc7bef85d1865f638df2473f50e8e"
  }
 },
 "nbformat": 4,
 "nbformat_minor": 2
}