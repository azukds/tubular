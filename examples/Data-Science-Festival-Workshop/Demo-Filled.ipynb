{
 "cells": [
  {
   "cell_type": "markdown",
   "id": "88c6ade9",
   "metadata": {},
   "source": [
    "- verbose in pipeline steps to see time"
   ]
  },
  {
   "cell_type": "code",
   "execution_count": 2,
   "id": "aa6f4630",
   "metadata": {},
   "outputs": [],
   "source": [
    "import pandas as pd\n",
    "import numpy as np\n",
    "import urllib\n",
    "import zipfile"
   ]
  },
  {
   "cell_type": "code",
   "execution_count": 3,
   "id": "612d7b0b",
   "metadata": {},
   "outputs": [
    {
     "data": {
      "text/plain": [
       "'0.3.0'"
      ]
     },
     "execution_count": 3,
     "metadata": {},
     "output_type": "execute_result"
    }
   ],
   "source": [
    "import tubular\n",
    "tubular.__version__"
   ]
  },
  {
   "cell_type": "markdown",
   "id": "36caf977",
   "metadata": {},
   "source": [
    "# Download dataset from the UCI Machine Learning Repository\n",
    "## Define data locations"
   ]
  },
  {
   "cell_type": "code",
   "execution_count": 4,
   "id": "1123ff6b",
   "metadata": {},
   "outputs": [],
   "source": [
    "data_url = \"https://archive.ics.uci.edu/ml/machine-learning-databases/00222/bank-additional.zip\"\n",
    "zip_filename = \"bank-additional.zip\"\n",
    "data_filename = \"bank-additional/bank-additional-full.csv\""
   ]
  },
  {
   "cell_type": "markdown",
   "id": "001fa2f6",
   "metadata": {},
   "source": [
    "## Download and unzip data"
   ]
  },
  {
   "cell_type": "code",
   "execution_count": 4,
   "id": "3d40cae6",
   "metadata": {},
   "outputs": [],
   "source": [
    "r = urllib.request.urlretrieve(data_url, zip_filename)"
   ]
  },
  {
   "cell_type": "code",
   "execution_count": 5,
   "id": "cdd360e8",
   "metadata": {},
   "outputs": [],
   "source": [
    "with zipfile.ZipFile(zip_filename, \"r\") as zip_ref:\n",
    "    \n",
    "    zip_ref.extractall(\".\")"
   ]
  },
  {
   "cell_type": "markdown",
   "id": "053a8791",
   "metadata": {},
   "source": [
    "## Load data"
   ]
  },
  {
   "cell_type": "code",
   "execution_count": 5,
   "id": "2c97b785",
   "metadata": {},
   "outputs": [
    {
     "data": {
      "text/plain": [
       "(41188, 21)"
      ]
     },
     "execution_count": 5,
     "metadata": {},
     "output_type": "execute_result"
    }
   ],
   "source": [
    "df = pd.read_csv(data_filename, sep=\";\")\n",
    "df.shape"
   ]
  },
  {
   "cell_type": "code",
   "execution_count": 6,
   "id": "2a327b20",
   "metadata": {},
   "outputs": [
    {
     "data": {
      "text/html": [
       "<div>\n",
       "<style scoped>\n",
       "    .dataframe tbody tr th:only-of-type {\n",
       "        vertical-align: middle;\n",
       "    }\n",
       "\n",
       "    .dataframe tbody tr th {\n",
       "        vertical-align: top;\n",
       "    }\n",
       "\n",
       "    .dataframe thead th {\n",
       "        text-align: right;\n",
       "    }\n",
       "</style>\n",
       "<table border=\"1\" class=\"dataframe\">\n",
       "  <thead>\n",
       "    <tr style=\"text-align: right;\">\n",
       "      <th></th>\n",
       "      <th>age</th>\n",
       "      <th>job</th>\n",
       "      <th>marital</th>\n",
       "      <th>education</th>\n",
       "      <th>default</th>\n",
       "      <th>housing</th>\n",
       "      <th>loan</th>\n",
       "      <th>contact</th>\n",
       "      <th>month</th>\n",
       "      <th>day_of_week</th>\n",
       "      <th>...</th>\n",
       "      <th>campaign</th>\n",
       "      <th>pdays</th>\n",
       "      <th>previous</th>\n",
       "      <th>poutcome</th>\n",
       "      <th>emp.var.rate</th>\n",
       "      <th>cons.price.idx</th>\n",
       "      <th>cons.conf.idx</th>\n",
       "      <th>euribor3m</th>\n",
       "      <th>nr.employed</th>\n",
       "      <th>y</th>\n",
       "    </tr>\n",
       "  </thead>\n",
       "  <tbody>\n",
       "    <tr>\n",
       "      <th>0</th>\n",
       "      <td>56</td>\n",
       "      <td>housemaid</td>\n",
       "      <td>married</td>\n",
       "      <td>basic.4y</td>\n",
       "      <td>no</td>\n",
       "      <td>no</td>\n",
       "      <td>no</td>\n",
       "      <td>telephone</td>\n",
       "      <td>may</td>\n",
       "      <td>mon</td>\n",
       "      <td>...</td>\n",
       "      <td>1</td>\n",
       "      <td>999</td>\n",
       "      <td>0</td>\n",
       "      <td>nonexistent</td>\n",
       "      <td>1.1</td>\n",
       "      <td>93.994</td>\n",
       "      <td>-36.4</td>\n",
       "      <td>4.857</td>\n",
       "      <td>5191.0</td>\n",
       "      <td>no</td>\n",
       "    </tr>\n",
       "    <tr>\n",
       "      <th>1</th>\n",
       "      <td>57</td>\n",
       "      <td>services</td>\n",
       "      <td>married</td>\n",
       "      <td>high.school</td>\n",
       "      <td>unknown</td>\n",
       "      <td>no</td>\n",
       "      <td>no</td>\n",
       "      <td>telephone</td>\n",
       "      <td>may</td>\n",
       "      <td>mon</td>\n",
       "      <td>...</td>\n",
       "      <td>1</td>\n",
       "      <td>999</td>\n",
       "      <td>0</td>\n",
       "      <td>nonexistent</td>\n",
       "      <td>1.1</td>\n",
       "      <td>93.994</td>\n",
       "      <td>-36.4</td>\n",
       "      <td>4.857</td>\n",
       "      <td>5191.0</td>\n",
       "      <td>no</td>\n",
       "    </tr>\n",
       "    <tr>\n",
       "      <th>2</th>\n",
       "      <td>37</td>\n",
       "      <td>services</td>\n",
       "      <td>married</td>\n",
       "      <td>high.school</td>\n",
       "      <td>no</td>\n",
       "      <td>yes</td>\n",
       "      <td>no</td>\n",
       "      <td>telephone</td>\n",
       "      <td>may</td>\n",
       "      <td>mon</td>\n",
       "      <td>...</td>\n",
       "      <td>1</td>\n",
       "      <td>999</td>\n",
       "      <td>0</td>\n",
       "      <td>nonexistent</td>\n",
       "      <td>1.1</td>\n",
       "      <td>93.994</td>\n",
       "      <td>-36.4</td>\n",
       "      <td>4.857</td>\n",
       "      <td>5191.0</td>\n",
       "      <td>no</td>\n",
       "    </tr>\n",
       "    <tr>\n",
       "      <th>3</th>\n",
       "      <td>40</td>\n",
       "      <td>admin.</td>\n",
       "      <td>married</td>\n",
       "      <td>basic.6y</td>\n",
       "      <td>no</td>\n",
       "      <td>no</td>\n",
       "      <td>no</td>\n",
       "      <td>telephone</td>\n",
       "      <td>may</td>\n",
       "      <td>mon</td>\n",
       "      <td>...</td>\n",
       "      <td>1</td>\n",
       "      <td>999</td>\n",
       "      <td>0</td>\n",
       "      <td>nonexistent</td>\n",
       "      <td>1.1</td>\n",
       "      <td>93.994</td>\n",
       "      <td>-36.4</td>\n",
       "      <td>4.857</td>\n",
       "      <td>5191.0</td>\n",
       "      <td>no</td>\n",
       "    </tr>\n",
       "    <tr>\n",
       "      <th>4</th>\n",
       "      <td>56</td>\n",
       "      <td>services</td>\n",
       "      <td>married</td>\n",
       "      <td>high.school</td>\n",
       "      <td>no</td>\n",
       "      <td>no</td>\n",
       "      <td>yes</td>\n",
       "      <td>telephone</td>\n",
       "      <td>may</td>\n",
       "      <td>mon</td>\n",
       "      <td>...</td>\n",
       "      <td>1</td>\n",
       "      <td>999</td>\n",
       "      <td>0</td>\n",
       "      <td>nonexistent</td>\n",
       "      <td>1.1</td>\n",
       "      <td>93.994</td>\n",
       "      <td>-36.4</td>\n",
       "      <td>4.857</td>\n",
       "      <td>5191.0</td>\n",
       "      <td>no</td>\n",
       "    </tr>\n",
       "  </tbody>\n",
       "</table>\n",
       "<p>5 rows × 21 columns</p>\n",
       "</div>"
      ],
      "text/plain": [
       "   age        job  marital    education  default housing loan    contact  \\\n",
       "0   56  housemaid  married     basic.4y       no      no   no  telephone   \n",
       "1   57   services  married  high.school  unknown      no   no  telephone   \n",
       "2   37   services  married  high.school       no     yes   no  telephone   \n",
       "3   40     admin.  married     basic.6y       no      no   no  telephone   \n",
       "4   56   services  married  high.school       no      no  yes  telephone   \n",
       "\n",
       "  month day_of_week  ...  campaign  pdays  previous     poutcome emp.var.rate  \\\n",
       "0   may         mon  ...         1    999         0  nonexistent          1.1   \n",
       "1   may         mon  ...         1    999         0  nonexistent          1.1   \n",
       "2   may         mon  ...         1    999         0  nonexistent          1.1   \n",
       "3   may         mon  ...         1    999         0  nonexistent          1.1   \n",
       "4   may         mon  ...         1    999         0  nonexistent          1.1   \n",
       "\n",
       "   cons.price.idx  cons.conf.idx  euribor3m  nr.employed   y  \n",
       "0          93.994          -36.4      4.857       5191.0  no  \n",
       "1          93.994          -36.4      4.857       5191.0  no  \n",
       "2          93.994          -36.4      4.857       5191.0  no  \n",
       "3          93.994          -36.4      4.857       5191.0  no  \n",
       "4          93.994          -36.4      4.857       5191.0  no  \n",
       "\n",
       "[5 rows x 21 columns]"
      ]
     },
     "execution_count": 6,
     "metadata": {},
     "output_type": "execute_result"
    }
   ],
   "source": [
    "df.head()"
   ]
  },
  {
   "cell_type": "markdown",
   "id": "a6501c87",
   "metadata": {},
   "source": [
    "## Data prep"
   ]
  },
  {
   "cell_type": "code",
   "execution_count": 7,
   "id": "87a8e981",
   "metadata": {},
   "outputs": [],
   "source": [
    "df['y'] = df['y'].map({'no': 0, 'yes': 1})"
   ]
  },
  {
   "cell_type": "code",
   "execution_count": 8,
   "id": "8f323fac",
   "metadata": {},
   "outputs": [],
   "source": [
    "np.random.seed(1)\n",
    "df[\"sample\"] = np.random.random_sample(df.shape[0])\n",
    "test_sample_cut_off = 0.8"
   ]
  },
  {
   "cell_type": "code",
   "execution_count": 10,
   "id": "e5597f52",
   "metadata": {},
   "outputs": [
    {
     "name": "stdout",
     "output_type": "stream",
     "text": [
      "(32946, 21) (8242, 21) (32946,) (8242,)\n"
     ]
    }
   ],
   "source": [
    "X_train = df.loc[df[\"sample\"] < test_sample_cut_off].drop(columns = \"y\")\n",
    "X_test = df.loc[df[\"sample\"] >= test_sample_cut_off].drop(columns = \"y\")\n",
    "y_train = df.loc[df[\"sample\"] < test_sample_cut_off, \"y\"]\n",
    "y_test = df.loc[df[\"sample\"] >= test_sample_cut_off, \"y\"]\n",
    "print(X_train.shape, X_test.shape, y_train.shape, y_test.shape)"
   ]
  },
  {
   "cell_type": "markdown",
   "id": "8c285cc5",
   "metadata": {},
   "source": [
    "# Explore data"
   ]
  },
  {
   "cell_type": "code",
   "execution_count": null,
   "id": "996e9aa8",
   "metadata": {},
   "outputs": [],
   "source": []
  },
  {
   "cell_type": "code",
   "execution_count": null,
   "id": "50216c78",
   "metadata": {},
   "outputs": [],
   "source": []
  },
  {
   "cell_type": "code",
   "execution_count": null,
   "id": "b9fe27ef",
   "metadata": {},
   "outputs": [],
   "source": []
  },
  {
   "cell_type": "code",
   "execution_count": null,
   "id": "a416f1a4",
   "metadata": {},
   "outputs": [],
   "source": []
  },
  {
   "cell_type": "code",
   "execution_count": 8,
   "id": "de4345c0",
   "metadata": {},
   "outputs": [],
   "source": [
    "from sklearn.pipeline import Pipeline"
   ]
  },
  {
   "cell_type": "code",
   "execution_count": 9,
   "id": "394cb63e",
   "metadata": {},
   "outputs": [],
   "source": [
    "from tubular.capping import CappingTransformer\n",
    "from tubular.numeric import CutTransformer, ScalingTransformer\n",
    "from tubular.mapping import MappingTransformer\n",
    "from tubular.nominal import GroupRareLevelsTransformer, OneHotEncodingTransformer, MeanResponseTransformer"
   ]
  },
  {
   "cell_type": "code",
   "execution_count": 10,
   "id": "71b39bd9",
   "metadata": {},
   "outputs": [],
   "source": [
    "column_mappings = {\n",
    "    \"default\": {\"no\": 0, \"unknown\": 1, \"yes\": 1},\n",
    "    \"housing\": {\"no\": 0, \"unknown\": 1, \"yes\": 1},\n",
    "    \"loan\": {\"no\": 0, \"unknown\": 1, \"yes\": 1},\n",
    "    \"contact\": {\"cellular\": 0, \"telephone\": 1},\n",
    "    \"month\": {\n",
    "        \"jan\": \"winter\",\n",
    "        \"feb\": \"winter\",\n",
    "        \"mar\": \"sping\",\n",
    "        \"apr\": \"sping\",\n",
    "        \"may\": \"sping\",\n",
    "        \"jun\": \"summer\",        \n",
    "        \"jul\": \"summer\",\n",
    "        \"aug\": \"summer\",\n",
    "        \"sep\": \"autumn\",\n",
    "        \"oct\": \"autumn\",\n",
    "        \"nov\": \"autumn\",\n",
    "        \"dec\": \"winter\",         \n",
    "    }\n",
    "}"
   ]
  },
  {
   "cell_type": "code",
   "execution_count": 11,
   "id": "73336d69",
   "metadata": {},
   "outputs": [],
   "source": [
    "preprocessing_pipeline = Pipeline(\n",
    "    steps = [\n",
    "        (\n",
    "            \"capping\",\n",
    "            CappingTransformer(\n",
    "                capping_values = {'campaign': [None, 10]}, verbose = False\n",
    "            )\n",
    "        ),\n",
    "        (\n",
    "            \"discretisation\",\n",
    "            CutTransformer(\n",
    "                column = \"emp.var.rate\", \n",
    "                new_column_name = \"emp.var.rate_cut\", \n",
    "                cut_kwargs = {\"bins\": 5, \"precision\": 3}, \n",
    "                verbose = False\n",
    "            )\n",
    "        ),        \n",
    "        (\n",
    "            \"standardisation\",\n",
    "            ScalingTransformer(\n",
    "                columns = [\"age\"], scaler_type = \"standard\", verbose = False\n",
    "            )\n",
    "        ),\n",
    "        (\n",
    "            \"mapping\",\n",
    "            MappingTransformer(\n",
    "                mappings = column_mappings, verbose = False\n",
    "            )\n",
    "        ),  \n",
    "        (\n",
    "            \"rare_category_grouping\",\n",
    "            GroupRareLevelsTransformer(\n",
    "                columns = [\"job\", \"education\"], cut_off_percent = 0.05, verbose = False\n",
    "            )\n",
    "        ),    \n",
    "        (\n",
    "            \"one_hot_encoding\",\n",
    "            OneHotEncodingTransformer(\n",
    "                columns = [\"poutcome\", \"emp.var.rate_cut\"], drop_original = True, verbose = False\n",
    "            )\n",
    "        ),\n",
    "        (\n",
    "            \"mean_response_encoding\",\n",
    "            MeanResponseTransformer(\n",
    "                columns = [\"job\", \"month\", \"education\", \"marital\", \"day_of_week\"]\n",
    "            )\n",
    "        )          \n",
    "    ]\n",
    ")"
   ]
  },
  {
   "cell_type": "code",
   "execution_count": null,
   "id": "b58a0170",
   "metadata": {},
   "outputs": [],
   "source": []
  },
  {
   "cell_type": "code",
   "execution_count": 31,
   "id": "385b15a5",
   "metadata": {},
   "outputs": [
    {
     "name": "stderr",
     "output_type": "stream",
     "text": [
      "/Users/richardangell/opt/miniconda3/envs/tubular/lib/python3.7/site-packages/tubular/capping.py:206: UserWarning: quantiles not set so no fitting done in CappingTransformer\n",
      "  warnings.warn(\"quantiles not set so no fitting done in CappingTransformer\")\n",
      "/Users/richardangell/opt/miniconda3/envs/tubular/lib/python3.7/site-packages/sklearn/utils/deprecation.py:87: FutureWarning: Function get_feature_names is deprecated; get_feature_names is deprecated in 1.0 and will be removed in 1.2. Please use get_feature_names_out instead.\n",
      "  warnings.warn(msg, category=FutureWarning)\n"
     ]
    }
   ],
   "source": [
    "preprocessing_pipeline = preprocessing_pipeline.fit(\n",
    "    X = df.loc[df[\"sample\"] < 0.7].drop(columns = \"y\"), y = df.loc[df[\"sample\"] < 0.7, \"y\"]\n",
    ")"
   ]
  },
  {
   "cell_type": "code",
   "execution_count": null,
   "id": "06e7cc45",
   "metadata": {},
   "outputs": [],
   "source": []
  },
  {
   "cell_type": "code",
   "execution_count": 33,
   "id": "b3411cf6",
   "metadata": {},
   "outputs": [
    {
     "name": "stderr",
     "output_type": "stream",
     "text": [
      "/Users/richardangell/opt/miniconda3/envs/tubular/lib/python3.7/site-packages/sklearn/utils/deprecation.py:87: FutureWarning: Function get_feature_names is deprecated; get_feature_names is deprecated in 1.0 and will be removed in 1.2. Please use get_feature_names_out instead.\n",
      "  warnings.warn(msg, category=FutureWarning)\n",
      "/Users/richardangell/opt/miniconda3/envs/tubular/lib/python3.7/site-packages/sklearn/utils/deprecation.py:87: FutureWarning: Function get_feature_names is deprecated; get_feature_names is deprecated in 1.0 and will be removed in 1.2. Please use get_feature_names_out instead.\n",
      "  warnings.warn(msg, category=FutureWarning)\n"
     ]
    }
   ],
   "source": [
    "df_transformed_train = preprocessing_pipeline.transform(df.loc[df[\"sample\"]< 0.7].drop(columns = \"y\"))\n",
    "df_transformed_test = preprocessing_pipeline.transform(df.loc[df[\"sample\"] >= 0.7].drop(columns = \"y\"))"
   ]
  },
  {
   "cell_type": "code",
   "execution_count": null,
   "id": "5f375124",
   "metadata": {},
   "outputs": [],
   "source": []
  },
  {
   "cell_type": "code",
   "execution_count": null,
   "id": "32cd0b0d",
   "metadata": {},
   "outputs": [],
   "source": []
  },
  {
   "cell_type": "code",
   "execution_count": 12,
   "id": "3f49fe6d",
   "metadata": {},
   "outputs": [],
   "source": [
    "from sklearn.ensemble import RandomForestClassifier\n",
    "from sklearn.metrics import roc_auc_score"
   ]
  },
  {
   "cell_type": "code",
   "execution_count": null,
   "id": "7d4ae677",
   "metadata": {},
   "outputs": [],
   "source": []
  },
  {
   "cell_type": "code",
   "execution_count": 22,
   "id": "e5ebf46f",
   "metadata": {},
   "outputs": [],
   "source": [
    "model = RandomForestClassifier(random_state = 10)"
   ]
  },
  {
   "cell_type": "code",
   "execution_count": 34,
   "id": "6f16310a",
   "metadata": {},
   "outputs": [
    {
     "data": {
      "text/plain": [
       "RandomForestClassifier(random_state=10)"
      ]
     },
     "execution_count": 34,
     "metadata": {},
     "output_type": "execute_result"
    }
   ],
   "source": [
    "model.fit(df_transformed_train, df.loc[df[\"sample\"] < 0.7, \"y\"])"
   ]
  },
  {
   "cell_type": "code",
   "execution_count": 35,
   "id": "d36bc3c8",
   "metadata": {},
   "outputs": [],
   "source": [
    "preds = model.predict(df_transformed_test)"
   ]
  },
  {
   "cell_type": "code",
   "execution_count": 36,
   "id": "282b352a",
   "metadata": {},
   "outputs": [
    {
     "data": {
      "text/plain": [
       "0.726308718809964"
      ]
     },
     "execution_count": 36,
     "metadata": {},
     "output_type": "execute_result"
    }
   ],
   "source": [
    "roc_auc_score(df.loc[df[\"sample\"] >= 0.7, \"y\"], preds)"
   ]
  },
  {
   "cell_type": "code",
   "execution_count": null,
   "id": "1ada2bc4",
   "metadata": {},
   "outputs": [],
   "source": []
  },
  {
   "cell_type": "code",
   "execution_count": null,
   "id": "8ca5106a",
   "metadata": {},
   "outputs": [],
   "source": []
  },
  {
   "cell_type": "code",
   "execution_count": 13,
   "id": "84efe84d",
   "metadata": {},
   "outputs": [],
   "source": [
    "preprocessing_and_model_pipeline = Pipeline(\n",
    "    steps = [\n",
    "        (\n",
    "            \"preprocessing\",\n",
    "            preprocessing_pipeline\n",
    "        ),\n",
    "        (\n",
    "            \"model\",\n",
    "            RandomForestClassifier(random_state = 10)\n",
    "        )\n",
    "    ]\n",
    ")"
   ]
  },
  {
   "cell_type": "code",
   "execution_count": 40,
   "id": "2ba5f305",
   "metadata": {},
   "outputs": [
    {
     "name": "stderr",
     "output_type": "stream",
     "text": [
      "/Users/richardangell/opt/miniconda3/envs/tubular/lib/python3.7/site-packages/tubular/capping.py:206: UserWarning: quantiles not set so no fitting done in CappingTransformer\n",
      "  warnings.warn(\"quantiles not set so no fitting done in CappingTransformer\")\n",
      "/Users/richardangell/opt/miniconda3/envs/tubular/lib/python3.7/site-packages/sklearn/utils/deprecation.py:87: FutureWarning: Function get_feature_names is deprecated; get_feature_names is deprecated in 1.0 and will be removed in 1.2. Please use get_feature_names_out instead.\n",
      "  warnings.warn(msg, category=FutureWarning)\n"
     ]
    }
   ],
   "source": [
    "preprocessing_and_model_pipeline = preprocessing_and_model_pipeline.fit(\n",
    "    X = df.loc[df[\"sample\"] < 0.7].drop(columns = \"y\"), y = df.loc[df[\"sample\"] < 0.7, \"y\"]\n",
    ")"
   ]
  },
  {
   "cell_type": "code",
   "execution_count": 41,
   "id": "044ecc09",
   "metadata": {},
   "outputs": [
    {
     "name": "stderr",
     "output_type": "stream",
     "text": [
      "/Users/richardangell/opt/miniconda3/envs/tubular/lib/python3.7/site-packages/sklearn/utils/deprecation.py:87: FutureWarning: Function get_feature_names is deprecated; get_feature_names is deprecated in 1.0 and will be removed in 1.2. Please use get_feature_names_out instead.\n",
      "  warnings.warn(msg, category=FutureWarning)\n"
     ]
    },
    {
     "data": {
      "text/plain": [
       "array([0, 0, 0, ..., 1, 0, 0])"
      ]
     },
     "execution_count": 41,
     "metadata": {},
     "output_type": "execute_result"
    }
   ],
   "source": [
    "preprocessing_and_model_pipeline.predict(df.loc[df[\"sample\"] < 0.7].drop(columns = \"y\"))"
   ]
  },
  {
   "cell_type": "code",
   "execution_count": null,
   "id": "4a22db94",
   "metadata": {},
   "outputs": [],
   "source": []
  },
  {
   "cell_type": "code",
   "execution_count": 14,
   "id": "1d94ab9e",
   "metadata": {},
   "outputs": [],
   "source": [
    "from sklearn.model_selection import RandomizedSearchCV"
   ]
  },
  {
   "cell_type": "code",
   "execution_count": 18,
   "id": "ad10e5b2",
   "metadata": {},
   "outputs": [],
   "source": [
    "param_grid = {\n",
    "    \"preprocessing__rare_category_grouping__cut_off_percent\": [0.005, 0.01, 0.02, 0.1],\n",
    "    \"model__max_depth\": [2, 5, 7],\n",
    "    \"model__n_estimators\": range(60, 220, 40)\n",
    "}"
   ]
  },
  {
   "cell_type": "code",
   "execution_count": 19,
   "id": "7458fab2",
   "metadata": {},
   "outputs": [],
   "source": [
    "random_search = RandomizedSearchCV(\n",
    "    estimator = preprocessing_and_model_pipeline,\n",
    "    param_distributions = param_grid,\n",
    "    scoring = 'roc_auc',\n",
    "    n_jobs = -1,\n",
    "    cv = 3,\n",
    "    random_state = 1234,\n",
    "    verbose = True    \n",
    ")"
   ]
  },
  {
   "cell_type": "code",
   "execution_count": 20,
   "id": "a2f3dd44",
   "metadata": {},
   "outputs": [
    {
     "name": "stdout",
     "output_type": "stream",
     "text": [
      "Fitting 3 folds for each of 10 candidates, totalling 30 fits\n"
     ]
    },
    {
     "name": "stderr",
     "output_type": "stream",
     "text": [
      "/Users/richardangell/opt/miniconda3/envs/tubular/lib/python3.7/site-packages/tubular/capping.py:206: UserWarning: quantiles not set so no fitting done in CappingTransformer\n",
      "  warnings.warn(\"quantiles not set so no fitting done in CappingTransformer\")\n",
      "/Users/richardangell/opt/miniconda3/envs/tubular/lib/python3.7/site-packages/sklearn/utils/deprecation.py:87: FutureWarning: Function get_feature_names is deprecated; get_feature_names is deprecated in 1.0 and will be removed in 1.2. Please use get_feature_names_out instead.\n",
      "  warnings.warn(msg, category=FutureWarning)\n"
     ]
    },
    {
     "data": {
      "text/plain": [
       "RandomizedSearchCV(cv=3,\n",
       "                   estimator=Pipeline(steps=[('preprocessing',\n",
       "                                              Pipeline(steps=[('capping',\n",
       "                                                               CappingTransformer(capping_values={'campaign': [None,\n",
       "                                                                                                               10]})),\n",
       "                                                              ('discretisation',\n",
       "                                                               CutTransformer(column='emp.var.rate',\n",
       "                                                                              cut_kwargs={'bins': 5,\n",
       "                                                                                          'precision': 3},\n",
       "                                                                              new_column_name='emp.var.rate_cut')),\n",
       "                                                              ('standardisation',\n",
       "                                                               ScalingTransformer(columns=['age'],\n",
       "                                                                                  scaler_type='st...\n",
       "                                                               MeanResponseTransformer(columns=['job',\n",
       "                                                                                                'month',\n",
       "                                                                                                'education',\n",
       "                                                                                                'marital',\n",
       "                                                                                                'day_of_week']))])),\n",
       "                                             ('model',\n",
       "                                              RandomForestClassifier(random_state=10))]),\n",
       "                   n_jobs=-1,\n",
       "                   param_distributions={'model__max_depth': [2, 5, 7],\n",
       "                                        'model__n_estimators': range(60, 220, 40),\n",
       "                                        'preprocessing__rare_category_grouping__cut_off_percent': [0.005,\n",
       "                                                                                                   0.01,\n",
       "                                                                                                   0.02,\n",
       "                                                                                                   0.1]},\n",
       "                   random_state=1234, scoring='roc_auc', verbose=True)"
      ]
     },
     "execution_count": 20,
     "metadata": {},
     "output_type": "execute_result"
    }
   ],
   "source": [
    "random_search.fit(\n",
    "    X = df.loc[df[\"sample\"] < 0.7].drop(columns = \"y\"), y = df.loc[df[\"sample\"] < 0.7, \"y\"]\n",
    ")"
   ]
  },
  {
   "cell_type": "code",
   "execution_count": null,
   "id": "d969fa28",
   "metadata": {},
   "outputs": [],
   "source": []
  },
  {
   "cell_type": "code",
   "execution_count": 23,
   "id": "c87c8f84",
   "metadata": {},
   "outputs": [
    {
     "data": {
      "text/plain": [
       "{'preprocessing__rare_category_grouping__cut_off_percent': 0.005,\n",
       " 'model__n_estimators': 140,\n",
       " 'model__max_depth': 2}"
      ]
     },
     "execution_count": 23,
     "metadata": {},
     "output_type": "execute_result"
    }
   ],
   "source": [
    "random_search.best_params_"
   ]
  },
  {
   "cell_type": "code",
   "execution_count": null,
   "id": "189192e0",
   "metadata": {},
   "outputs": [],
   "source": []
  },
  {
   "cell_type": "code",
   "execution_count": null,
   "id": "a12de804",
   "metadata": {},
   "outputs": [],
   "source": []
  },
  {
   "cell_type": "code",
   "execution_count": null,
   "id": "3febb5a2",
   "metadata": {},
   "outputs": [],
   "source": []
  }
 ],
 "metadata": {
  "kernelspec": {
   "display_name": "tubular",
   "language": "python",
   "name": "tubular"
  },
  "language_info": {
   "codemirror_mode": {
    "name": "ipython",
    "version": 3
   },
   "file_extension": ".py",
   "mimetype": "text/x-python",
   "name": "python",
   "nbconvert_exporter": "python",
   "pygments_lexer": "ipython3",
   "version": "3.7.11"
  }
 },
 "nbformat": 4,
 "nbformat_minor": 5
}
