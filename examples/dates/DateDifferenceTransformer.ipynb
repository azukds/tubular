{
 "cells": [
  {
   "cell_type": "markdown",
   "metadata": {
    "toc": true
   },
   "source": [
    "<h1>Table of Contents<span class=\"tocSkip\"></span></h1>\n",
    "<div class=\"toc\"><ul class=\"toc-item\"><li><span><a href=\"#DateDiffTransformer\" data-toc-modified-id=\"DateDiffTransformer-1\"><span class=\"toc-item-num\">1&nbsp;&nbsp;</span>DateDiffTransformer</a></span><ul class=\"toc-item\"><li><span><a href=\"#Create-and-Load-datetime-data\" data-toc-modified-id=\"Create-and-Load-datetime-data-1.1\"><span class=\"toc-item-num\">1.1&nbsp;&nbsp;</span>Create and Load datetime data</a></span></li><li><span><a href=\"#Usage\" data-toc-modified-id=\"Usage-1.2\"><span class=\"toc-item-num\">1.2&nbsp;&nbsp;</span>Usage</a></span><ul class=\"toc-item\"><li><span><a href=\"#Years\" data-toc-modified-id=\"Years-1.2.1\"><span class=\"toc-item-num\">1.2.1&nbsp;&nbsp;</span>Years</a></span></li><li><span><a href=\"#Months\" data-toc-modified-id=\"Months-1.2.2\"><span class=\"toc-item-num\">1.2.2&nbsp;&nbsp;</span>Months</a></span></li><li><span><a href=\"#Days\" data-toc-modified-id=\"Days-1.2.3\"><span class=\"toc-item-num\">1.2.3&nbsp;&nbsp;</span>Days</a></span></li><li><span><a href=\"#Hours\" data-toc-modified-id=\"Hours-1.2.4\"><span class=\"toc-item-num\">1.2.4&nbsp;&nbsp;</span>Hours</a></span></li><li><span><a href=\"#Minutes\" data-toc-modified-id=\"Minutes-1.2.5\"><span class=\"toc-item-num\">1.2.5&nbsp;&nbsp;</span>Minutes</a></span></li><li><span><a href=\"#Seconds\" data-toc-modified-id=\"Seconds-1.2.6\"><span class=\"toc-item-num\">1.2.6&nbsp;&nbsp;</span>Seconds</a></span></li></ul></li></ul></li></ul></div>"
   ]
  },
  {
   "cell_type": "markdown",
   "metadata": {},
   "source": [
    "# DateDiffTransformer\n",
    "This notebook shows the functionality in the `DateDifferenceTransformer` class. This transformer calculates the difference between 2 date fields in specified units"
   ]
  },
  {
   "cell_type": "code",
   "execution_count": 1,
   "metadata": {
    "ExecuteTime": {
     "end_time": "2020-12-07T17:17:54.101449Z",
     "start_time": "2020-12-07T17:17:53.471428Z"
    }
   },
   "outputs": [],
   "source": [
    "import datetime\n",
    "import pandas as pd\n",
    "import numpy as np"
   ]
  },
  {
   "cell_type": "code",
   "execution_count": 2,
   "metadata": {
    "ExecuteTime": {
     "end_time": "2020-12-07T17:17:55.040377Z",
     "start_time": "2020-12-07T17:17:54.104382Z"
    }
   },
   "outputs": [],
   "source": [
    "import tubular\n",
    "from tubular.dates import DateDifferenceTransformer"
   ]
  },
  {
   "cell_type": "code",
   "execution_count": 3,
   "metadata": {
    "ExecuteTime": {
     "end_time": "2020-12-07T17:17:55.056385Z",
     "start_time": "2020-12-07T17:17:55.042374Z"
    }
   },
   "outputs": [
    {
     "data": {
      "text/plain": [
       "'0.3.0'"
      ]
     },
     "execution_count": 3,
     "metadata": {},
     "output_type": "execute_result"
    }
   ],
   "source": [
    "tubular.__version__"
   ]
  },
  {
   "cell_type": "markdown",
   "metadata": {},
   "source": [
    "## Create and Load datetime data"
   ]
  },
  {
   "cell_type": "code",
   "execution_count": 4,
   "metadata": {
    "ExecuteTime": {
     "end_time": "2020-12-07T17:17:55.091383Z",
     "start_time": "2020-12-07T17:17:55.058376Z"
    }
   },
   "outputs": [],
   "source": [
    "def create_datetime_data():\n",
    "    \n",
    "    seconds_1 = np.random.randint(0, 59, 10)\n",
    "    mins_1 = np.random.randint(0, 59, 10)\n",
    "    hours_1 = np.random.randint(0, 23, 10)\n",
    "    days_1 = np.random.randint(1, 29, 10)\n",
    "    months_1 = np.random.randint(1, 13, 10)\n",
    "    years_1 = np.random.randint(1970, 2000, 10)\n",
    "\n",
    "    seconds_2 = np.random.randint(0, 59, 10)\n",
    "    mins_2 = np.random.randint(0, 59, 10)\n",
    "    hours_2 = np.random.randint(0, 23, 10)\n",
    "    days_2 = np.random.randint(1, 29, 10)\n",
    "    months_2 = np.random.randint(1, 13, 10)\n",
    "    years_2 = np.random.randint(2010, 2020, 10)\n",
    "    \n",
    "    date_1 = [datetime.datetime(a, b, c, x, y, z) for a, b, c, x, y, z in zip(years_1, months_1, days_1, hours_1, mins_1, seconds_1)]\n",
    "    date_2 = [datetime.datetime(a, b, c, x, y, z) for a, b, c, x, y, z in zip(years_2, months_2, days_2, hours_2, mins_2, seconds_2)]\n",
    "    \n",
    "    data = pd.DataFrame({\"date_of_birth\": date_1, \"sale_date\": date_2})\n",
    "    \n",
    "    return data"
   ]
  },
  {
   "cell_type": "code",
   "execution_count": 5,
   "metadata": {
    "ExecuteTime": {
     "end_time": "2020-12-07T17:17:55.114443Z",
     "start_time": "2020-12-07T17:17:55.094413Z"
    }
   },
   "outputs": [],
   "source": [
    "datetime_data = create_datetime_data()"
   ]
  },
  {
   "cell_type": "code",
   "execution_count": 6,
   "metadata": {
    "ExecuteTime": {
     "end_time": "2020-12-07T17:17:55.156409Z",
     "start_time": "2020-12-07T17:17:55.116383Z"
    }
   },
   "outputs": [
    {
     "data": {
      "text/html": [
       "<div>\n",
       "<style scoped>\n",
       "    .dataframe tbody tr th:only-of-type {\n",
       "        vertical-align: middle;\n",
       "    }\n",
       "\n",
       "    .dataframe tbody tr th {\n",
       "        vertical-align: top;\n",
       "    }\n",
       "\n",
       "    .dataframe thead th {\n",
       "        text-align: right;\n",
       "    }\n",
       "</style>\n",
       "<table border=\"1\" class=\"dataframe\">\n",
       "  <thead>\n",
       "    <tr style=\"text-align: right;\">\n",
       "      <th></th>\n",
       "      <th>date_of_birth</th>\n",
       "      <th>sale_date</th>\n",
       "    </tr>\n",
       "  </thead>\n",
       "  <tbody>\n",
       "    <tr>\n",
       "      <th>0</th>\n",
       "      <td>1986-07-02 20:22:01</td>\n",
       "      <td>2019-01-19 07:28:15</td>\n",
       "    </tr>\n",
       "    <tr>\n",
       "      <th>1</th>\n",
       "      <td>1992-05-21 11:08:53</td>\n",
       "      <td>2011-04-20 01:21:54</td>\n",
       "    </tr>\n",
       "    <tr>\n",
       "      <th>2</th>\n",
       "      <td>1992-09-28 10:54:55</td>\n",
       "      <td>2010-04-16 11:27:18</td>\n",
       "    </tr>\n",
       "    <tr>\n",
       "      <th>3</th>\n",
       "      <td>1992-01-24 02:13:39</td>\n",
       "      <td>2014-09-08 20:08:26</td>\n",
       "    </tr>\n",
       "    <tr>\n",
       "      <th>4</th>\n",
       "      <td>1994-06-14 20:39:50</td>\n",
       "      <td>2015-11-20 19:39:07</td>\n",
       "    </tr>\n",
       "    <tr>\n",
       "      <th>5</th>\n",
       "      <td>1996-07-12 03:24:36</td>\n",
       "      <td>2018-05-20 20:09:18</td>\n",
       "    </tr>\n",
       "    <tr>\n",
       "      <th>6</th>\n",
       "      <td>1970-10-02 04:11:19</td>\n",
       "      <td>2014-10-11 16:16:20</td>\n",
       "    </tr>\n",
       "    <tr>\n",
       "      <th>7</th>\n",
       "      <td>1980-08-08 00:10:10</td>\n",
       "      <td>2014-02-22 21:11:43</td>\n",
       "    </tr>\n",
       "    <tr>\n",
       "      <th>8</th>\n",
       "      <td>1970-06-18 09:10:12</td>\n",
       "      <td>2016-09-23 22:48:48</td>\n",
       "    </tr>\n",
       "    <tr>\n",
       "      <th>9</th>\n",
       "      <td>1985-09-03 12:13:42</td>\n",
       "      <td>2016-05-27 04:12:46</td>\n",
       "    </tr>\n",
       "  </tbody>\n",
       "</table>\n",
       "</div>"
      ],
      "text/plain": [
       "        date_of_birth           sale_date\n",
       "0 1986-07-02 20:22:01 2019-01-19 07:28:15\n",
       "1 1992-05-21 11:08:53 2011-04-20 01:21:54\n",
       "2 1992-09-28 10:54:55 2010-04-16 11:27:18\n",
       "3 1992-01-24 02:13:39 2014-09-08 20:08:26\n",
       "4 1994-06-14 20:39:50 2015-11-20 19:39:07\n",
       "5 1996-07-12 03:24:36 2018-05-20 20:09:18\n",
       "6 1970-10-02 04:11:19 2014-10-11 16:16:20\n",
       "7 1980-08-08 00:10:10 2014-02-22 21:11:43\n",
       "8 1970-06-18 09:10:12 2016-09-23 22:48:48\n",
       "9 1985-09-03 12:13:42 2016-05-27 04:12:46"
      ]
     },
     "execution_count": 6,
     "metadata": {},
     "output_type": "execute_result"
    }
   ],
   "source": [
    "datetime_data"
   ]
  },
  {
   "cell_type": "code",
   "execution_count": 7,
   "metadata": {
    "ExecuteTime": {
     "end_time": "2020-12-07T17:17:55.173419Z",
     "start_time": "2020-12-07T17:17:55.159408Z"
    }
   },
   "outputs": [
    {
     "data": {
      "text/plain": [
       "date_of_birth    datetime64[ns]\n",
       "sale_date        datetime64[ns]\n",
       "dtype: object"
      ]
     },
     "execution_count": 7,
     "metadata": {},
     "output_type": "execute_result"
    }
   ],
   "source": [
    "datetime_data.dtypes"
   ]
  },
  {
   "cell_type": "markdown",
   "metadata": {},
   "source": [
    "## Usage\n",
    "The transformer requires 4 arguments:\n",
    "- `column_lower`: the datetime column that is being subtracted.\n",
    "- `column_upper`: the datetime column that is subtracted from.\n",
    "- `new_column_name`: the name of the new age column.\n",
    "- `units`: the time units: 'Y', 'M', 'D', 'h', 'm' or 's'"
   ]
  },
  {
   "cell_type": "markdown",
   "metadata": {},
   "source": [
    "### Years"
   ]
  },
  {
   "cell_type": "code",
   "execution_count": 8,
   "metadata": {
    "ExecuteTime": {
     "end_time": "2020-12-07T17:17:55.192378Z",
     "start_time": "2020-12-07T17:17:55.175384Z"
    }
   },
   "outputs": [],
   "source": [
    "date_difference_transformer = DateDifferenceTransformer(\n",
    "    column_lower=\"date_of_birth\",\n",
    "    column_upper=\"sale_date\",\n",
    "    new_column_name=\"years\",\n",
    "    units='Y',\n",
    ")"
   ]
  },
  {
   "cell_type": "code",
   "execution_count": 9,
   "metadata": {
    "ExecuteTime": {
     "end_time": "2020-12-07T17:17:55.234452Z",
     "start_time": "2020-12-07T17:17:55.195375Z"
    }
   },
   "outputs": [],
   "source": [
    "transformed_data_years = date_difference_transformer.transform(datetime_data)"
   ]
  },
  {
   "cell_type": "code",
   "execution_count": 10,
   "metadata": {
    "ExecuteTime": {
     "end_time": "2020-12-07T17:17:55.259377Z",
     "start_time": "2020-12-07T17:17:55.236374Z"
    }
   },
   "outputs": [
    {
     "data": {
      "text/html": [
       "<div>\n",
       "<style scoped>\n",
       "    .dataframe tbody tr th:only-of-type {\n",
       "        vertical-align: middle;\n",
       "    }\n",
       "\n",
       "    .dataframe tbody tr th {\n",
       "        vertical-align: top;\n",
       "    }\n",
       "\n",
       "    .dataframe thead th {\n",
       "        text-align: right;\n",
       "    }\n",
       "</style>\n",
       "<table border=\"1\" class=\"dataframe\">\n",
       "  <thead>\n",
       "    <tr style=\"text-align: right;\">\n",
       "      <th></th>\n",
       "      <th>date_of_birth</th>\n",
       "      <th>sale_date</th>\n",
       "      <th>years</th>\n",
       "    </tr>\n",
       "  </thead>\n",
       "  <tbody>\n",
       "    <tr>\n",
       "      <th>0</th>\n",
       "      <td>1986-07-02 20:22:01</td>\n",
       "      <td>2019-01-19 07:28:15</td>\n",
       "      <td>32.549505</td>\n",
       "    </tr>\n",
       "    <tr>\n",
       "      <th>1</th>\n",
       "      <td>1992-05-21 11:08:53</td>\n",
       "      <td>2011-04-20 01:21:54</td>\n",
       "      <td>18.912346</td>\n",
       "    </tr>\n",
       "    <tr>\n",
       "      <th>2</th>\n",
       "      <td>1992-09-28 10:54:55</td>\n",
       "      <td>2010-04-16 11:27:18</td>\n",
       "      <td>17.547308</td>\n",
       "    </tr>\n",
       "    <tr>\n",
       "      <th>3</th>\n",
       "      <td>1992-01-24 02:13:39</td>\n",
       "      <td>2014-09-08 20:08:26</td>\n",
       "      <td>22.625369</td>\n",
       "    </tr>\n",
       "    <tr>\n",
       "      <th>4</th>\n",
       "      <td>1994-06-14 20:39:50</td>\n",
       "      <td>2015-11-20 19:39:07</td>\n",
       "      <td>21.434959</td>\n",
       "    </tr>\n",
       "    <tr>\n",
       "      <th>5</th>\n",
       "      <td>1996-07-12 03:24:36</td>\n",
       "      <td>2018-05-20 20:09:18</td>\n",
       "      <td>21.855884</td>\n",
       "    </tr>\n",
       "    <tr>\n",
       "      <th>6</th>\n",
       "      <td>1970-10-02 04:11:19</td>\n",
       "      <td>2014-10-11 16:16:20</td>\n",
       "      <td>44.026923</td>\n",
       "    </tr>\n",
       "    <tr>\n",
       "      <th>7</th>\n",
       "      <td>1980-08-08 00:10:10</td>\n",
       "      <td>2014-02-22 21:11:43</td>\n",
       "      <td>33.544497</td>\n",
       "    </tr>\n",
       "    <tr>\n",
       "      <th>8</th>\n",
       "      <td>1970-06-18 09:10:12</td>\n",
       "      <td>2016-09-23 22:48:48</td>\n",
       "      <td>46.269447</td>\n",
       "    </tr>\n",
       "    <tr>\n",
       "      <th>9</th>\n",
       "      <td>1985-09-03 12:13:42</td>\n",
       "      <td>2016-05-27 04:12:46</td>\n",
       "      <td>30.729354</td>\n",
       "    </tr>\n",
       "  </tbody>\n",
       "</table>\n",
       "</div>"
      ],
      "text/plain": [
       "        date_of_birth           sale_date      years\n",
       "0 1986-07-02 20:22:01 2019-01-19 07:28:15  32.549505\n",
       "1 1992-05-21 11:08:53 2011-04-20 01:21:54  18.912346\n",
       "2 1992-09-28 10:54:55 2010-04-16 11:27:18  17.547308\n",
       "3 1992-01-24 02:13:39 2014-09-08 20:08:26  22.625369\n",
       "4 1994-06-14 20:39:50 2015-11-20 19:39:07  21.434959\n",
       "5 1996-07-12 03:24:36 2018-05-20 20:09:18  21.855884\n",
       "6 1970-10-02 04:11:19 2014-10-11 16:16:20  44.026923\n",
       "7 1980-08-08 00:10:10 2014-02-22 21:11:43  33.544497\n",
       "8 1970-06-18 09:10:12 2016-09-23 22:48:48  46.269447\n",
       "9 1985-09-03 12:13:42 2016-05-27 04:12:46  30.729354"
      ]
     },
     "execution_count": 10,
     "metadata": {},
     "output_type": "execute_result"
    }
   ],
   "source": [
    "transformed_data_years"
   ]
  },
  {
   "cell_type": "markdown",
   "metadata": {},
   "source": [
    "### Months"
   ]
  },
  {
   "cell_type": "code",
   "execution_count": 11,
   "metadata": {
    "ExecuteTime": {
     "end_time": "2020-12-07T17:17:55.279382Z",
     "start_time": "2020-12-07T17:17:55.261380Z"
    }
   },
   "outputs": [],
   "source": [
    "date_difference_transformer = DateDifferenceTransformer(\n",
    "    column_lower=\"date_of_birth\",\n",
    "    column_upper=\"sale_date\",\n",
    "    new_column_name=\"months\",\n",
    "    units='M',\n",
    ")"
   ]
  },
  {
   "cell_type": "code",
   "execution_count": 12,
   "metadata": {
    "ExecuteTime": {
     "end_time": "2020-12-07T17:17:55.303377Z",
     "start_time": "2020-12-07T17:17:55.281377Z"
    }
   },
   "outputs": [],
   "source": [
    "transformed_data_months = date_difference_transformer.transform(transformed_data_years)"
   ]
  },
  {
   "cell_type": "code",
   "execution_count": 13,
   "metadata": {
    "ExecuteTime": {
     "end_time": "2020-12-07T17:17:55.329377Z",
     "start_time": "2020-12-07T17:17:55.305394Z"
    }
   },
   "outputs": [
    {
     "data": {
      "text/html": [
       "<div>\n",
       "<style scoped>\n",
       "    .dataframe tbody tr th:only-of-type {\n",
       "        vertical-align: middle;\n",
       "    }\n",
       "\n",
       "    .dataframe tbody tr th {\n",
       "        vertical-align: top;\n",
       "    }\n",
       "\n",
       "    .dataframe thead th {\n",
       "        text-align: right;\n",
       "    }\n",
       "</style>\n",
       "<table border=\"1\" class=\"dataframe\">\n",
       "  <thead>\n",
       "    <tr style=\"text-align: right;\">\n",
       "      <th></th>\n",
       "      <th>date_of_birth</th>\n",
       "      <th>sale_date</th>\n",
       "      <th>years</th>\n",
       "      <th>months</th>\n",
       "    </tr>\n",
       "  </thead>\n",
       "  <tbody>\n",
       "    <tr>\n",
       "      <th>0</th>\n",
       "      <td>1986-07-02 20:22:01</td>\n",
       "      <td>2019-01-19 07:28:15</td>\n",
       "      <td>32.549505</td>\n",
       "      <td>390.594063</td>\n",
       "    </tr>\n",
       "    <tr>\n",
       "      <th>1</th>\n",
       "      <td>1992-05-21 11:08:53</td>\n",
       "      <td>2011-04-20 01:21:54</td>\n",
       "      <td>18.912346</td>\n",
       "      <td>226.948147</td>\n",
       "    </tr>\n",
       "    <tr>\n",
       "      <th>2</th>\n",
       "      <td>1992-09-28 10:54:55</td>\n",
       "      <td>2010-04-16 11:27:18</td>\n",
       "      <td>17.547308</td>\n",
       "      <td>210.567691</td>\n",
       "    </tr>\n",
       "    <tr>\n",
       "      <th>3</th>\n",
       "      <td>1992-01-24 02:13:39</td>\n",
       "      <td>2014-09-08 20:08:26</td>\n",
       "      <td>22.625369</td>\n",
       "      <td>271.504429</td>\n",
       "    </tr>\n",
       "    <tr>\n",
       "      <th>4</th>\n",
       "      <td>1994-06-14 20:39:50</td>\n",
       "      <td>2015-11-20 19:39:07</td>\n",
       "      <td>21.434959</td>\n",
       "      <td>257.219502</td>\n",
       "    </tr>\n",
       "    <tr>\n",
       "      <th>5</th>\n",
       "      <td>1996-07-12 03:24:36</td>\n",
       "      <td>2018-05-20 20:09:18</td>\n",
       "      <td>21.855884</td>\n",
       "      <td>262.270608</td>\n",
       "    </tr>\n",
       "    <tr>\n",
       "      <th>6</th>\n",
       "      <td>1970-10-02 04:11:19</td>\n",
       "      <td>2014-10-11 16:16:20</td>\n",
       "      <td>44.026923</td>\n",
       "      <td>528.323078</td>\n",
       "    </tr>\n",
       "    <tr>\n",
       "      <th>7</th>\n",
       "      <td>1980-08-08 00:10:10</td>\n",
       "      <td>2014-02-22 21:11:43</td>\n",
       "      <td>33.544497</td>\n",
       "      <td>402.533968</td>\n",
       "    </tr>\n",
       "    <tr>\n",
       "      <th>8</th>\n",
       "      <td>1970-06-18 09:10:12</td>\n",
       "      <td>2016-09-23 22:48:48</td>\n",
       "      <td>46.269447</td>\n",
       "      <td>555.233363</td>\n",
       "    </tr>\n",
       "    <tr>\n",
       "      <th>9</th>\n",
       "      <td>1985-09-03 12:13:42</td>\n",
       "      <td>2016-05-27 04:12:46</td>\n",
       "      <td>30.729354</td>\n",
       "      <td>368.752246</td>\n",
       "    </tr>\n",
       "  </tbody>\n",
       "</table>\n",
       "</div>"
      ],
      "text/plain": [
       "        date_of_birth           sale_date      years      months\n",
       "0 1986-07-02 20:22:01 2019-01-19 07:28:15  32.549505  390.594063\n",
       "1 1992-05-21 11:08:53 2011-04-20 01:21:54  18.912346  226.948147\n",
       "2 1992-09-28 10:54:55 2010-04-16 11:27:18  17.547308  210.567691\n",
       "3 1992-01-24 02:13:39 2014-09-08 20:08:26  22.625369  271.504429\n",
       "4 1994-06-14 20:39:50 2015-11-20 19:39:07  21.434959  257.219502\n",
       "5 1996-07-12 03:24:36 2018-05-20 20:09:18  21.855884  262.270608\n",
       "6 1970-10-02 04:11:19 2014-10-11 16:16:20  44.026923  528.323078\n",
       "7 1980-08-08 00:10:10 2014-02-22 21:11:43  33.544497  402.533968\n",
       "8 1970-06-18 09:10:12 2016-09-23 22:48:48  46.269447  555.233363\n",
       "9 1985-09-03 12:13:42 2016-05-27 04:12:46  30.729354  368.752246"
      ]
     },
     "execution_count": 13,
     "metadata": {},
     "output_type": "execute_result"
    }
   ],
   "source": [
    "transformed_data_months"
   ]
  },
  {
   "cell_type": "markdown",
   "metadata": {},
   "source": [
    "### Days"
   ]
  },
  {
   "cell_type": "code",
   "execution_count": 14,
   "metadata": {
    "ExecuteTime": {
     "end_time": "2020-12-07T17:17:55.347376Z",
     "start_time": "2020-12-07T17:17:55.336377Z"
    }
   },
   "outputs": [],
   "source": [
    "date_difference_transformer = DateDifferenceTransformer(\n",
    "    column_lower=\"date_of_birth\",\n",
    "    column_upper=\"sale_date\",\n",
    "    new_column_name=\"days\",\n",
    "    units='D',\n",
    ")"
   ]
  },
  {
   "cell_type": "code",
   "execution_count": 15,
   "metadata": {
    "ExecuteTime": {
     "end_time": "2020-12-07T17:17:55.371394Z",
     "start_time": "2020-12-07T17:17:55.349376Z"
    }
   },
   "outputs": [],
   "source": [
    "transformed_data_days = date_difference_transformer.transform(transformed_data_months)"
   ]
  },
  {
   "cell_type": "code",
   "execution_count": 16,
   "metadata": {
    "ExecuteTime": {
     "end_time": "2020-12-07T17:17:55.405093Z",
     "start_time": "2020-12-07T17:17:55.372376Z"
    }
   },
   "outputs": [
    {
     "data": {
      "text/html": [
       "<div>\n",
       "<style scoped>\n",
       "    .dataframe tbody tr th:only-of-type {\n",
       "        vertical-align: middle;\n",
       "    }\n",
       "\n",
       "    .dataframe tbody tr th {\n",
       "        vertical-align: top;\n",
       "    }\n",
       "\n",
       "    .dataframe thead th {\n",
       "        text-align: right;\n",
       "    }\n",
       "</style>\n",
       "<table border=\"1\" class=\"dataframe\">\n",
       "  <thead>\n",
       "    <tr style=\"text-align: right;\">\n",
       "      <th></th>\n",
       "      <th>date_of_birth</th>\n",
       "      <th>sale_date</th>\n",
       "      <th>years</th>\n",
       "      <th>months</th>\n",
       "      <th>days</th>\n",
       "    </tr>\n",
       "  </thead>\n",
       "  <tbody>\n",
       "    <tr>\n",
       "      <th>0</th>\n",
       "      <td>1986-07-02 20:22:01</td>\n",
       "      <td>2019-01-19 07:28:15</td>\n",
       "      <td>32.549505</td>\n",
       "      <td>390.594063</td>\n",
       "      <td>11888.462662</td>\n",
       "    </tr>\n",
       "    <tr>\n",
       "      <th>1</th>\n",
       "      <td>1992-05-21 11:08:53</td>\n",
       "      <td>2011-04-20 01:21:54</td>\n",
       "      <td>18.912346</td>\n",
       "      <td>226.948147</td>\n",
       "      <td>6907.592373</td>\n",
       "    </tr>\n",
       "    <tr>\n",
       "      <th>2</th>\n",
       "      <td>1992-09-28 10:54:55</td>\n",
       "      <td>2010-04-16 11:27:18</td>\n",
       "      <td>17.547308</td>\n",
       "      <td>210.567691</td>\n",
       "      <td>6409.022488</td>\n",
       "    </tr>\n",
       "    <tr>\n",
       "      <th>3</th>\n",
       "      <td>1992-01-24 02:13:39</td>\n",
       "      <td>2014-09-08 20:08:26</td>\n",
       "      <td>22.625369</td>\n",
       "      <td>271.504429</td>\n",
       "      <td>8263.746377</td>\n",
       "    </tr>\n",
       "    <tr>\n",
       "      <th>4</th>\n",
       "      <td>1994-06-14 20:39:50</td>\n",
       "      <td>2015-11-20 19:39:07</td>\n",
       "      <td>21.434959</td>\n",
       "      <td>257.219502</td>\n",
       "      <td>7828.957836</td>\n",
       "    </tr>\n",
       "    <tr>\n",
       "      <th>5</th>\n",
       "      <td>1996-07-12 03:24:36</td>\n",
       "      <td>2018-05-20 20:09:18</td>\n",
       "      <td>21.855884</td>\n",
       "      <td>262.270608</td>\n",
       "      <td>7982.697708</td>\n",
       "    </tr>\n",
       "    <tr>\n",
       "      <th>6</th>\n",
       "      <td>1970-10-02 04:11:19</td>\n",
       "      <td>2014-10-11 16:16:20</td>\n",
       "      <td>44.026923</td>\n",
       "      <td>528.323078</td>\n",
       "      <td>16080.503484</td>\n",
       "    </tr>\n",
       "    <tr>\n",
       "      <th>7</th>\n",
       "      <td>1980-08-08 00:10:10</td>\n",
       "      <td>2014-02-22 21:11:43</td>\n",
       "      <td>33.544497</td>\n",
       "      <td>402.533968</td>\n",
       "      <td>12251.876076</td>\n",
       "    </tr>\n",
       "    <tr>\n",
       "      <th>8</th>\n",
       "      <td>1970-06-18 09:10:12</td>\n",
       "      <td>2016-09-23 22:48:48</td>\n",
       "      <td>46.269447</td>\n",
       "      <td>555.233363</td>\n",
       "      <td>16899.568472</td>\n",
       "    </tr>\n",
       "    <tr>\n",
       "      <th>9</th>\n",
       "      <td>1985-09-03 12:13:42</td>\n",
       "      <td>2016-05-27 04:12:46</td>\n",
       "      <td>30.729354</td>\n",
       "      <td>368.752246</td>\n",
       "      <td>11223.666019</td>\n",
       "    </tr>\n",
       "  </tbody>\n",
       "</table>\n",
       "</div>"
      ],
      "text/plain": [
       "        date_of_birth           sale_date      years      months          days\n",
       "0 1986-07-02 20:22:01 2019-01-19 07:28:15  32.549505  390.594063  11888.462662\n",
       "1 1992-05-21 11:08:53 2011-04-20 01:21:54  18.912346  226.948147   6907.592373\n",
       "2 1992-09-28 10:54:55 2010-04-16 11:27:18  17.547308  210.567691   6409.022488\n",
       "3 1992-01-24 02:13:39 2014-09-08 20:08:26  22.625369  271.504429   8263.746377\n",
       "4 1994-06-14 20:39:50 2015-11-20 19:39:07  21.434959  257.219502   7828.957836\n",
       "5 1996-07-12 03:24:36 2018-05-20 20:09:18  21.855884  262.270608   7982.697708\n",
       "6 1970-10-02 04:11:19 2014-10-11 16:16:20  44.026923  528.323078  16080.503484\n",
       "7 1980-08-08 00:10:10 2014-02-22 21:11:43  33.544497  402.533968  12251.876076\n",
       "8 1970-06-18 09:10:12 2016-09-23 22:48:48  46.269447  555.233363  16899.568472\n",
       "9 1985-09-03 12:13:42 2016-05-27 04:12:46  30.729354  368.752246  11223.666019"
      ]
     },
     "execution_count": 16,
     "metadata": {},
     "output_type": "execute_result"
    }
   ],
   "source": [
    "transformed_data_days"
   ]
  },
  {
   "cell_type": "markdown",
   "metadata": {},
   "source": [
    "### Hours"
   ]
  },
  {
   "cell_type": "code",
   "execution_count": 17,
   "metadata": {
    "ExecuteTime": {
     "end_time": "2020-12-07T17:17:55.426375Z",
     "start_time": "2020-12-07T17:17:55.407377Z"
    }
   },
   "outputs": [],
   "source": [
    "date_difference_transformer = DateDifferenceTransformer(\n",
    "    column_lower=\"date_of_birth\",\n",
    "    column_upper=\"sale_date\",\n",
    "    new_column_name=\"hours\",\n",
    "    units='h',\n",
    ")"
   ]
  },
  {
   "cell_type": "code",
   "execution_count": 18,
   "metadata": {
    "ExecuteTime": {
     "end_time": "2020-12-07T17:17:55.446380Z",
     "start_time": "2020-12-07T17:17:55.428379Z"
    }
   },
   "outputs": [],
   "source": [
    "transformed_data_hours = date_difference_transformer.transform(transformed_data_days)"
   ]
  },
  {
   "cell_type": "code",
   "execution_count": 19,
   "metadata": {
    "ExecuteTime": {
     "end_time": "2020-12-07T17:17:55.483389Z",
     "start_time": "2020-12-07T17:17:55.448375Z"
    }
   },
   "outputs": [
    {
     "data": {
      "text/html": [
       "<div>\n",
       "<style scoped>\n",
       "    .dataframe tbody tr th:only-of-type {\n",
       "        vertical-align: middle;\n",
       "    }\n",
       "\n",
       "    .dataframe tbody tr th {\n",
       "        vertical-align: top;\n",
       "    }\n",
       "\n",
       "    .dataframe thead th {\n",
       "        text-align: right;\n",
       "    }\n",
       "</style>\n",
       "<table border=\"1\" class=\"dataframe\">\n",
       "  <thead>\n",
       "    <tr style=\"text-align: right;\">\n",
       "      <th></th>\n",
       "      <th>date_of_birth</th>\n",
       "      <th>sale_date</th>\n",
       "      <th>years</th>\n",
       "      <th>months</th>\n",
       "      <th>days</th>\n",
       "      <th>hours</th>\n",
       "    </tr>\n",
       "  </thead>\n",
       "  <tbody>\n",
       "    <tr>\n",
       "      <th>0</th>\n",
       "      <td>1986-07-02 20:22:01</td>\n",
       "      <td>2019-01-19 07:28:15</td>\n",
       "      <td>32.549505</td>\n",
       "      <td>390.594063</td>\n",
       "      <td>11888.462662</td>\n",
       "      <td>285323.103889</td>\n",
       "    </tr>\n",
       "    <tr>\n",
       "      <th>1</th>\n",
       "      <td>1992-05-21 11:08:53</td>\n",
       "      <td>2011-04-20 01:21:54</td>\n",
       "      <td>18.912346</td>\n",
       "      <td>226.948147</td>\n",
       "      <td>6907.592373</td>\n",
       "      <td>165782.216944</td>\n",
       "    </tr>\n",
       "    <tr>\n",
       "      <th>2</th>\n",
       "      <td>1992-09-28 10:54:55</td>\n",
       "      <td>2010-04-16 11:27:18</td>\n",
       "      <td>17.547308</td>\n",
       "      <td>210.567691</td>\n",
       "      <td>6409.022488</td>\n",
       "      <td>153816.539722</td>\n",
       "    </tr>\n",
       "    <tr>\n",
       "      <th>3</th>\n",
       "      <td>1992-01-24 02:13:39</td>\n",
       "      <td>2014-09-08 20:08:26</td>\n",
       "      <td>22.625369</td>\n",
       "      <td>271.504429</td>\n",
       "      <td>8263.746377</td>\n",
       "      <td>198329.913056</td>\n",
       "    </tr>\n",
       "    <tr>\n",
       "      <th>4</th>\n",
       "      <td>1994-06-14 20:39:50</td>\n",
       "      <td>2015-11-20 19:39:07</td>\n",
       "      <td>21.434959</td>\n",
       "      <td>257.219502</td>\n",
       "      <td>7828.957836</td>\n",
       "      <td>187894.988056</td>\n",
       "    </tr>\n",
       "    <tr>\n",
       "      <th>5</th>\n",
       "      <td>1996-07-12 03:24:36</td>\n",
       "      <td>2018-05-20 20:09:18</td>\n",
       "      <td>21.855884</td>\n",
       "      <td>262.270608</td>\n",
       "      <td>7982.697708</td>\n",
       "      <td>191584.745000</td>\n",
       "    </tr>\n",
       "    <tr>\n",
       "      <th>6</th>\n",
       "      <td>1970-10-02 04:11:19</td>\n",
       "      <td>2014-10-11 16:16:20</td>\n",
       "      <td>44.026923</td>\n",
       "      <td>528.323078</td>\n",
       "      <td>16080.503484</td>\n",
       "      <td>385932.083611</td>\n",
       "    </tr>\n",
       "    <tr>\n",
       "      <th>7</th>\n",
       "      <td>1980-08-08 00:10:10</td>\n",
       "      <td>2014-02-22 21:11:43</td>\n",
       "      <td>33.544497</td>\n",
       "      <td>402.533968</td>\n",
       "      <td>12251.876076</td>\n",
       "      <td>294045.025833</td>\n",
       "    </tr>\n",
       "    <tr>\n",
       "      <th>8</th>\n",
       "      <td>1970-06-18 09:10:12</td>\n",
       "      <td>2016-09-23 22:48:48</td>\n",
       "      <td>46.269447</td>\n",
       "      <td>555.233363</td>\n",
       "      <td>16899.568472</td>\n",
       "      <td>405589.643333</td>\n",
       "    </tr>\n",
       "    <tr>\n",
       "      <th>9</th>\n",
       "      <td>1985-09-03 12:13:42</td>\n",
       "      <td>2016-05-27 04:12:46</td>\n",
       "      <td>30.729354</td>\n",
       "      <td>368.752246</td>\n",
       "      <td>11223.666019</td>\n",
       "      <td>269367.984444</td>\n",
       "    </tr>\n",
       "  </tbody>\n",
       "</table>\n",
       "</div>"
      ],
      "text/plain": [
       "        date_of_birth           sale_date      years      months  \\\n",
       "0 1986-07-02 20:22:01 2019-01-19 07:28:15  32.549505  390.594063   \n",
       "1 1992-05-21 11:08:53 2011-04-20 01:21:54  18.912346  226.948147   \n",
       "2 1992-09-28 10:54:55 2010-04-16 11:27:18  17.547308  210.567691   \n",
       "3 1992-01-24 02:13:39 2014-09-08 20:08:26  22.625369  271.504429   \n",
       "4 1994-06-14 20:39:50 2015-11-20 19:39:07  21.434959  257.219502   \n",
       "5 1996-07-12 03:24:36 2018-05-20 20:09:18  21.855884  262.270608   \n",
       "6 1970-10-02 04:11:19 2014-10-11 16:16:20  44.026923  528.323078   \n",
       "7 1980-08-08 00:10:10 2014-02-22 21:11:43  33.544497  402.533968   \n",
       "8 1970-06-18 09:10:12 2016-09-23 22:48:48  46.269447  555.233363   \n",
       "9 1985-09-03 12:13:42 2016-05-27 04:12:46  30.729354  368.752246   \n",
       "\n",
       "           days          hours  \n",
       "0  11888.462662  285323.103889  \n",
       "1   6907.592373  165782.216944  \n",
       "2   6409.022488  153816.539722  \n",
       "3   8263.746377  198329.913056  \n",
       "4   7828.957836  187894.988056  \n",
       "5   7982.697708  191584.745000  \n",
       "6  16080.503484  385932.083611  \n",
       "7  12251.876076  294045.025833  \n",
       "8  16899.568472  405589.643333  \n",
       "9  11223.666019  269367.984444  "
      ]
     },
     "execution_count": 19,
     "metadata": {},
     "output_type": "execute_result"
    }
   ],
   "source": [
    "transformed_data_hours"
   ]
  },
  {
   "cell_type": "markdown",
   "metadata": {},
   "source": [
    "### Minutes"
   ]
  },
  {
   "cell_type": "code",
   "execution_count": 20,
   "metadata": {
    "ExecuteTime": {
     "end_time": "2020-12-07T17:17:55.503378Z",
     "start_time": "2020-12-07T17:17:55.485392Z"
    }
   },
   "outputs": [],
   "source": [
    "date_difference_transformer = DateDifferenceTransformer(\n",
    "    column_lower=\"date_of_birth\",\n",
    "    column_upper=\"sale_date\",\n",
    "    new_column_name=\"minutes\",\n",
    "    units='m',\n",
    ")"
   ]
  },
  {
   "cell_type": "code",
   "execution_count": 21,
   "metadata": {
    "ExecuteTime": {
     "end_time": "2020-12-07T17:17:55.533375Z",
     "start_time": "2020-12-07T17:17:55.505376Z"
    }
   },
   "outputs": [],
   "source": [
    "transformed_data_minutes = date_difference_transformer.transform(transformed_data_hours)"
   ]
  },
  {
   "cell_type": "code",
   "execution_count": 22,
   "metadata": {
    "ExecuteTime": {
     "end_time": "2020-12-07T17:17:55.564394Z",
     "start_time": "2020-12-07T17:17:55.540376Z"
    }
   },
   "outputs": [
    {
     "data": {
      "text/html": [
       "<div>\n",
       "<style scoped>\n",
       "    .dataframe tbody tr th:only-of-type {\n",
       "        vertical-align: middle;\n",
       "    }\n",
       "\n",
       "    .dataframe tbody tr th {\n",
       "        vertical-align: top;\n",
       "    }\n",
       "\n",
       "    .dataframe thead th {\n",
       "        text-align: right;\n",
       "    }\n",
       "</style>\n",
       "<table border=\"1\" class=\"dataframe\">\n",
       "  <thead>\n",
       "    <tr style=\"text-align: right;\">\n",
       "      <th></th>\n",
       "      <th>date_of_birth</th>\n",
       "      <th>sale_date</th>\n",
       "      <th>years</th>\n",
       "      <th>months</th>\n",
       "      <th>days</th>\n",
       "      <th>hours</th>\n",
       "      <th>minutes</th>\n",
       "    </tr>\n",
       "  </thead>\n",
       "  <tbody>\n",
       "    <tr>\n",
       "      <th>0</th>\n",
       "      <td>1986-07-02 20:22:01</td>\n",
       "      <td>2019-01-19 07:28:15</td>\n",
       "      <td>32.549505</td>\n",
       "      <td>390.594063</td>\n",
       "      <td>11888.462662</td>\n",
       "      <td>285323.103889</td>\n",
       "      <td>1.711939e+07</td>\n",
       "    </tr>\n",
       "    <tr>\n",
       "      <th>1</th>\n",
       "      <td>1992-05-21 11:08:53</td>\n",
       "      <td>2011-04-20 01:21:54</td>\n",
       "      <td>18.912346</td>\n",
       "      <td>226.948147</td>\n",
       "      <td>6907.592373</td>\n",
       "      <td>165782.216944</td>\n",
       "      <td>9.946933e+06</td>\n",
       "    </tr>\n",
       "    <tr>\n",
       "      <th>2</th>\n",
       "      <td>1992-09-28 10:54:55</td>\n",
       "      <td>2010-04-16 11:27:18</td>\n",
       "      <td>17.547308</td>\n",
       "      <td>210.567691</td>\n",
       "      <td>6409.022488</td>\n",
       "      <td>153816.539722</td>\n",
       "      <td>9.228992e+06</td>\n",
       "    </tr>\n",
       "    <tr>\n",
       "      <th>3</th>\n",
       "      <td>1992-01-24 02:13:39</td>\n",
       "      <td>2014-09-08 20:08:26</td>\n",
       "      <td>22.625369</td>\n",
       "      <td>271.504429</td>\n",
       "      <td>8263.746377</td>\n",
       "      <td>198329.913056</td>\n",
       "      <td>1.189979e+07</td>\n",
       "    </tr>\n",
       "    <tr>\n",
       "      <th>4</th>\n",
       "      <td>1994-06-14 20:39:50</td>\n",
       "      <td>2015-11-20 19:39:07</td>\n",
       "      <td>21.434959</td>\n",
       "      <td>257.219502</td>\n",
       "      <td>7828.957836</td>\n",
       "      <td>187894.988056</td>\n",
       "      <td>1.127370e+07</td>\n",
       "    </tr>\n",
       "    <tr>\n",
       "      <th>5</th>\n",
       "      <td>1996-07-12 03:24:36</td>\n",
       "      <td>2018-05-20 20:09:18</td>\n",
       "      <td>21.855884</td>\n",
       "      <td>262.270608</td>\n",
       "      <td>7982.697708</td>\n",
       "      <td>191584.745000</td>\n",
       "      <td>1.149508e+07</td>\n",
       "    </tr>\n",
       "    <tr>\n",
       "      <th>6</th>\n",
       "      <td>1970-10-02 04:11:19</td>\n",
       "      <td>2014-10-11 16:16:20</td>\n",
       "      <td>44.026923</td>\n",
       "      <td>528.323078</td>\n",
       "      <td>16080.503484</td>\n",
       "      <td>385932.083611</td>\n",
       "      <td>2.315593e+07</td>\n",
       "    </tr>\n",
       "    <tr>\n",
       "      <th>7</th>\n",
       "      <td>1980-08-08 00:10:10</td>\n",
       "      <td>2014-02-22 21:11:43</td>\n",
       "      <td>33.544497</td>\n",
       "      <td>402.533968</td>\n",
       "      <td>12251.876076</td>\n",
       "      <td>294045.025833</td>\n",
       "      <td>1.764270e+07</td>\n",
       "    </tr>\n",
       "    <tr>\n",
       "      <th>8</th>\n",
       "      <td>1970-06-18 09:10:12</td>\n",
       "      <td>2016-09-23 22:48:48</td>\n",
       "      <td>46.269447</td>\n",
       "      <td>555.233363</td>\n",
       "      <td>16899.568472</td>\n",
       "      <td>405589.643333</td>\n",
       "      <td>2.433538e+07</td>\n",
       "    </tr>\n",
       "    <tr>\n",
       "      <th>9</th>\n",
       "      <td>1985-09-03 12:13:42</td>\n",
       "      <td>2016-05-27 04:12:46</td>\n",
       "      <td>30.729354</td>\n",
       "      <td>368.752246</td>\n",
       "      <td>11223.666019</td>\n",
       "      <td>269367.984444</td>\n",
       "      <td>1.616208e+07</td>\n",
       "    </tr>\n",
       "  </tbody>\n",
       "</table>\n",
       "</div>"
      ],
      "text/plain": [
       "        date_of_birth           sale_date      years      months  \\\n",
       "0 1986-07-02 20:22:01 2019-01-19 07:28:15  32.549505  390.594063   \n",
       "1 1992-05-21 11:08:53 2011-04-20 01:21:54  18.912346  226.948147   \n",
       "2 1992-09-28 10:54:55 2010-04-16 11:27:18  17.547308  210.567691   \n",
       "3 1992-01-24 02:13:39 2014-09-08 20:08:26  22.625369  271.504429   \n",
       "4 1994-06-14 20:39:50 2015-11-20 19:39:07  21.434959  257.219502   \n",
       "5 1996-07-12 03:24:36 2018-05-20 20:09:18  21.855884  262.270608   \n",
       "6 1970-10-02 04:11:19 2014-10-11 16:16:20  44.026923  528.323078   \n",
       "7 1980-08-08 00:10:10 2014-02-22 21:11:43  33.544497  402.533968   \n",
       "8 1970-06-18 09:10:12 2016-09-23 22:48:48  46.269447  555.233363   \n",
       "9 1985-09-03 12:13:42 2016-05-27 04:12:46  30.729354  368.752246   \n",
       "\n",
       "           days          hours       minutes  \n",
       "0  11888.462662  285323.103889  1.711939e+07  \n",
       "1   6907.592373  165782.216944  9.946933e+06  \n",
       "2   6409.022488  153816.539722  9.228992e+06  \n",
       "3   8263.746377  198329.913056  1.189979e+07  \n",
       "4   7828.957836  187894.988056  1.127370e+07  \n",
       "5   7982.697708  191584.745000  1.149508e+07  \n",
       "6  16080.503484  385932.083611  2.315593e+07  \n",
       "7  12251.876076  294045.025833  1.764270e+07  \n",
       "8  16899.568472  405589.643333  2.433538e+07  \n",
       "9  11223.666019  269367.984444  1.616208e+07  "
      ]
     },
     "execution_count": 22,
     "metadata": {},
     "output_type": "execute_result"
    }
   ],
   "source": [
    "transformed_data_minutes"
   ]
  },
  {
   "cell_type": "markdown",
   "metadata": {},
   "source": [
    "### Seconds"
   ]
  },
  {
   "cell_type": "code",
   "execution_count": 23,
   "metadata": {
    "ExecuteTime": {
     "end_time": "2020-12-07T17:17:55.582375Z",
     "start_time": "2020-12-07T17:17:55.568382Z"
    }
   },
   "outputs": [],
   "source": [
    "date_difference_transformer = DateDifferenceTransformer(\n",
    "    column_lower=\"date_of_birth\",\n",
    "    column_upper=\"sale_date\",\n",
    "    new_column_name=\"seconds\",\n",
    "    units='s',\n",
    ")"
   ]
  },
  {
   "cell_type": "code",
   "execution_count": 24,
   "metadata": {
    "ExecuteTime": {
     "end_time": "2020-12-07T17:17:55.603377Z",
     "start_time": "2020-12-07T17:17:55.584377Z"
    }
   },
   "outputs": [],
   "source": [
    "transformed_data_seconds = date_difference_transformer.transform(transformed_data_minutes)"
   ]
  },
  {
   "cell_type": "code",
   "execution_count": 25,
   "metadata": {
    "ExecuteTime": {
     "end_time": "2020-12-07T17:17:55.641379Z",
     "start_time": "2020-12-07T17:17:55.605378Z"
    },
    "scrolled": true
   },
   "outputs": [
    {
     "data": {
      "text/html": [
       "<div>\n",
       "<style scoped>\n",
       "    .dataframe tbody tr th:only-of-type {\n",
       "        vertical-align: middle;\n",
       "    }\n",
       "\n",
       "    .dataframe tbody tr th {\n",
       "        vertical-align: top;\n",
       "    }\n",
       "\n",
       "    .dataframe thead th {\n",
       "        text-align: right;\n",
       "    }\n",
       "</style>\n",
       "<table border=\"1\" class=\"dataframe\">\n",
       "  <thead>\n",
       "    <tr style=\"text-align: right;\">\n",
       "      <th></th>\n",
       "      <th>date_of_birth</th>\n",
       "      <th>sale_date</th>\n",
       "      <th>years</th>\n",
       "      <th>months</th>\n",
       "      <th>days</th>\n",
       "      <th>hours</th>\n",
       "      <th>minutes</th>\n",
       "      <th>seconds</th>\n",
       "    </tr>\n",
       "  </thead>\n",
       "  <tbody>\n",
       "    <tr>\n",
       "      <th>0</th>\n",
       "      <td>1986-07-02 20:22:01</td>\n",
       "      <td>2019-01-19 07:28:15</td>\n",
       "      <td>32.549505</td>\n",
       "      <td>390.594063</td>\n",
       "      <td>11888.462662</td>\n",
       "      <td>285323.103889</td>\n",
       "      <td>1.711939e+07</td>\n",
       "      <td>1.027163e+09</td>\n",
       "    </tr>\n",
       "    <tr>\n",
       "      <th>1</th>\n",
       "      <td>1992-05-21 11:08:53</td>\n",
       "      <td>2011-04-20 01:21:54</td>\n",
       "      <td>18.912346</td>\n",
       "      <td>226.948147</td>\n",
       "      <td>6907.592373</td>\n",
       "      <td>165782.216944</td>\n",
       "      <td>9.946933e+06</td>\n",
       "      <td>5.968160e+08</td>\n",
       "    </tr>\n",
       "    <tr>\n",
       "      <th>2</th>\n",
       "      <td>1992-09-28 10:54:55</td>\n",
       "      <td>2010-04-16 11:27:18</td>\n",
       "      <td>17.547308</td>\n",
       "      <td>210.567691</td>\n",
       "      <td>6409.022488</td>\n",
       "      <td>153816.539722</td>\n",
       "      <td>9.228992e+06</td>\n",
       "      <td>5.537395e+08</td>\n",
       "    </tr>\n",
       "    <tr>\n",
       "      <th>3</th>\n",
       "      <td>1992-01-24 02:13:39</td>\n",
       "      <td>2014-09-08 20:08:26</td>\n",
       "      <td>22.625369</td>\n",
       "      <td>271.504429</td>\n",
       "      <td>8263.746377</td>\n",
       "      <td>198329.913056</td>\n",
       "      <td>1.189979e+07</td>\n",
       "      <td>7.139877e+08</td>\n",
       "    </tr>\n",
       "    <tr>\n",
       "      <th>4</th>\n",
       "      <td>1994-06-14 20:39:50</td>\n",
       "      <td>2015-11-20 19:39:07</td>\n",
       "      <td>21.434959</td>\n",
       "      <td>257.219502</td>\n",
       "      <td>7828.957836</td>\n",
       "      <td>187894.988056</td>\n",
       "      <td>1.127370e+07</td>\n",
       "      <td>6.764220e+08</td>\n",
       "    </tr>\n",
       "    <tr>\n",
       "      <th>5</th>\n",
       "      <td>1996-07-12 03:24:36</td>\n",
       "      <td>2018-05-20 20:09:18</td>\n",
       "      <td>21.855884</td>\n",
       "      <td>262.270608</td>\n",
       "      <td>7982.697708</td>\n",
       "      <td>191584.745000</td>\n",
       "      <td>1.149508e+07</td>\n",
       "      <td>6.897051e+08</td>\n",
       "    </tr>\n",
       "    <tr>\n",
       "      <th>6</th>\n",
       "      <td>1970-10-02 04:11:19</td>\n",
       "      <td>2014-10-11 16:16:20</td>\n",
       "      <td>44.026923</td>\n",
       "      <td>528.323078</td>\n",
       "      <td>16080.503484</td>\n",
       "      <td>385932.083611</td>\n",
       "      <td>2.315593e+07</td>\n",
       "      <td>1.389356e+09</td>\n",
       "    </tr>\n",
       "    <tr>\n",
       "      <th>7</th>\n",
       "      <td>1980-08-08 00:10:10</td>\n",
       "      <td>2014-02-22 21:11:43</td>\n",
       "      <td>33.544497</td>\n",
       "      <td>402.533968</td>\n",
       "      <td>12251.876076</td>\n",
       "      <td>294045.025833</td>\n",
       "      <td>1.764270e+07</td>\n",
       "      <td>1.058562e+09</td>\n",
       "    </tr>\n",
       "    <tr>\n",
       "      <th>8</th>\n",
       "      <td>1970-06-18 09:10:12</td>\n",
       "      <td>2016-09-23 22:48:48</td>\n",
       "      <td>46.269447</td>\n",
       "      <td>555.233363</td>\n",
       "      <td>16899.568472</td>\n",
       "      <td>405589.643333</td>\n",
       "      <td>2.433538e+07</td>\n",
       "      <td>1.460123e+09</td>\n",
       "    </tr>\n",
       "    <tr>\n",
       "      <th>9</th>\n",
       "      <td>1985-09-03 12:13:42</td>\n",
       "      <td>2016-05-27 04:12:46</td>\n",
       "      <td>30.729354</td>\n",
       "      <td>368.752246</td>\n",
       "      <td>11223.666019</td>\n",
       "      <td>269367.984444</td>\n",
       "      <td>1.616208e+07</td>\n",
       "      <td>9.697247e+08</td>\n",
       "    </tr>\n",
       "  </tbody>\n",
       "</table>\n",
       "</div>"
      ],
      "text/plain": [
       "        date_of_birth           sale_date      years      months  \\\n",
       "0 1986-07-02 20:22:01 2019-01-19 07:28:15  32.549505  390.594063   \n",
       "1 1992-05-21 11:08:53 2011-04-20 01:21:54  18.912346  226.948147   \n",
       "2 1992-09-28 10:54:55 2010-04-16 11:27:18  17.547308  210.567691   \n",
       "3 1992-01-24 02:13:39 2014-09-08 20:08:26  22.625369  271.504429   \n",
       "4 1994-06-14 20:39:50 2015-11-20 19:39:07  21.434959  257.219502   \n",
       "5 1996-07-12 03:24:36 2018-05-20 20:09:18  21.855884  262.270608   \n",
       "6 1970-10-02 04:11:19 2014-10-11 16:16:20  44.026923  528.323078   \n",
       "7 1980-08-08 00:10:10 2014-02-22 21:11:43  33.544497  402.533968   \n",
       "8 1970-06-18 09:10:12 2016-09-23 22:48:48  46.269447  555.233363   \n",
       "9 1985-09-03 12:13:42 2016-05-27 04:12:46  30.729354  368.752246   \n",
       "\n",
       "           days          hours       minutes       seconds  \n",
       "0  11888.462662  285323.103889  1.711939e+07  1.027163e+09  \n",
       "1   6907.592373  165782.216944  9.946933e+06  5.968160e+08  \n",
       "2   6409.022488  153816.539722  9.228992e+06  5.537395e+08  \n",
       "3   8263.746377  198329.913056  1.189979e+07  7.139877e+08  \n",
       "4   7828.957836  187894.988056  1.127370e+07  6.764220e+08  \n",
       "5   7982.697708  191584.745000  1.149508e+07  6.897051e+08  \n",
       "6  16080.503484  385932.083611  2.315593e+07  1.389356e+09  \n",
       "7  12251.876076  294045.025833  1.764270e+07  1.058562e+09  \n",
       "8  16899.568472  405589.643333  2.433538e+07  1.460123e+09  \n",
       "9  11223.666019  269367.984444  1.616208e+07  9.697247e+08  "
      ]
     },
     "execution_count": 25,
     "metadata": {},
     "output_type": "execute_result"
    }
   ],
   "source": [
    "transformed_data_seconds "
   ]
  },
  {
   "cell_type": "code",
   "execution_count": null,
   "metadata": {},
   "outputs": [],
   "source": []
  }
 ],
 "metadata": {
  "hide_input": false,
  "kernelspec": {
   "display_name": "Python 3 (ipykernel)",
   "language": "python",
   "name": "python3"
  },
  "language_info": {
   "codemirror_mode": {
    "name": "ipython",
    "version": 3
   },
   "file_extension": ".py",
   "mimetype": "text/x-python",
   "name": "python",
   "nbconvert_exporter": "python",
   "pygments_lexer": "ipython3",
   "version": "3.7.11"
  },
  "toc": {
   "base_numbering": 1,
   "nav_menu": {},
   "number_sections": true,
   "sideBar": true,
   "skip_h1_title": false,
   "title_cell": "Table of Contents",
   "title_sidebar": "Contents",
   "toc_cell": true,
   "toc_position": {},
   "toc_section_display": true,
   "toc_window_display": true
  },
  "varInspector": {
   "cols": {
    "lenName": 16,
    "lenType": 16,
    "lenVar": 40
   },
   "kernels_config": {
    "python": {
     "delete_cmd_postfix": "",
     "delete_cmd_prefix": "del ",
     "library": "var_list.py",
     "varRefreshCmd": "print(var_dic_list())"
    },
    "r": {
     "delete_cmd_postfix": ") ",
     "delete_cmd_prefix": "rm(",
     "library": "var_list.r",
     "varRefreshCmd": "cat(var_dic_list()) "
    }
   },
   "types_to_exclude": [
    "module",
    "function",
    "builtin_function_or_method",
    "instance",
    "_Feature"
   ],
   "window_display": false
  }
 },
 "nbformat": 4,
 "nbformat_minor": 2
}
